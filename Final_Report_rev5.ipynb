{
 "cells": [
  {
   "cell_type": "markdown",
   "metadata": {},
   "source": [
    "### Unstructured Data Analysis for Policy (94-775)\n",
    "### Final Project Report\n",
    "### Hikaru Murase (hikarum), Nidhi Shree (nshree)\n",
    "### May 3, 2018"
   ]
  },
  {
   "cell_type": "markdown",
   "metadata": {},
   "source": [
    "## Part (1) Collecting Data of Image Files\n",
    "* Note: If you download the data from Google Drive, you can skip this part (move to part (2)).\n",
    "\n",
    "### (a) Bing Image Search (damaged and undamaged buildings)\n",
    "First, we collected image files from Bing image search results using Web API (Bing Image Search API v7). The reason why we chose Bing instead of Google is that Google does not give us over 100 image files per keyword. The issue seems to remain unsolved. Although Bing provided us with more than 100 image files, the total number still did not reach 1,000. (Even we searched more popular words such as \"cat\" in this API, we could not obtain over 1,000 files.)  \n",
    "  \n",
    "In conclusion, we obatained approximately 300 pictures of damaged buildings and 500 pictures of undamaged buildings from Bing image search. In these files, most of the images appear to contain single building, while some images do not appear to contain buildings.  \n",
    "  \n",
    "Also, as a data augmentation process, we flipped the images horizontally and add the flipped images to the data. Thus, the volume of data doubled (damaged: 600, undamaged: 1,000 in total)  \n",
    "  \n",
    "* Note 1: Before running the code below, plase create a new folder (named \"images\") in the folder where this ipynb file exists. Then, create two new folders (named \"damaged\" and \"undamaged\", respectively) directly under \"images\" folder. Thus, the structure of the folders should be as follows: >base folder > \"images\" > \"damaged\" and \"undamaged\"\n",
    "* Note 2: Downloaded image files should be stored in \"damaged\" folder for images of damaged buildings and \"undamaged\" folder for images of undamaged buildings. You need to transfer files downloaded by the code below to each folder (\"damaged\" or \"undamaged\") manually at the end of (a) and (b).\n",
    "* Note 3: You need to run all the code in part (a) twice to obtain images of \"undamaged\" buildings and \"damaged\" buildings separately. The details are describred in the following code."
   ]
  },
  {
   "cell_type": "code",
   "execution_count": 15,
   "metadata": {},
   "outputs": [],
   "source": [
    "# This code is a preparation for using web API in Bing image search.\n",
    "subscription_key = '859122352e0342e299ac923d58604c24' # This is my API key \n",
    "   # (The number of calls is limited to 1,000 per month.)\n",
    "\n",
    "assert subscription_key\n",
    "search_url = \"https://api.cognitive.microsoft.com/bing/v7.0/images/search\"\n",
    "\n",
    "# You need to run all the code in part (a) twice to get two kinds of data. \n",
    "# (1) In the first time, assign search term as \"single building.\"\n",
    "# (2) In the second time (after you finish data augmentation for images of 'single building'),\n",
    "# assign search term as \"single collapsed building\" \n",
    "\n",
    "search_term = \"single building\" # (1) to search images of undamaged buildings\n",
    "#search_term = \"Single collapsed building\" # (2) to search images of damaged buildings\n",
    "\n",
    "count = 150 # number of images to get per attempt (max: 150)"
   ]
  },
  {
   "cell_type": "code",
   "execution_count": 16,
   "metadata": {},
   "outputs": [
    {
     "name": "stdout",
     "output_type": "stream",
     "text": [
      "Total estimate matches (the number of images hit by the search term):  609\n",
      "The next offset is 187 .\n",
      "The next offset is 371 .\n",
      "The next offset is 565 .\n",
      "The next offset is 642 (this is the end point).\n",
      "The total number of images obtained: 491\n"
     ]
    }
   ],
   "source": [
    "# This code will extract image files' thumbnail urls and encoding formats \n",
    "import requests\n",
    "\n",
    "# 1st attempt of a loop process\n",
    "headers = {\"Ocp-Apim-Subscription-Key\" : subscription_key}\n",
    "params  = {\"count\": count, \"q\": search_term, \"offset\": 0, \"license\": \"any\", \"imageType\": \"photo\"}  \n",
    "response = requests.get(search_url, headers=headers, params=params)\n",
    "response.raise_for_status()\n",
    "search_results = response.json() \n",
    "\n",
    "thumbnail_urls = []\n",
    "content_urls = []\n",
    "formats = []\n",
    "\n",
    "for img in search_results[\"value\"]:\n",
    "    thumbnail_urls.append(img[\"thumbnailUrl\"]) # extract and store the thumbnail URLS.\n",
    "    content_urls.append(img[\"contentUrl\"]) # extract and store the content URLS\n",
    "    formats.append(img[\"encodingFormat\"]) # extract and store the encoding formats\n",
    "\n",
    "# the following code extracts total estimate matches.\n",
    "total_num_files = search_results[\"totalEstimatedMatches\"]\n",
    "\n",
    "# the following code extracts the next offset (\"The zero-based offset that indicates \n",
    "# the number of images to skip before returning images. The default is 0. \n",
    "# The offset should be less than (totalEstimatedMatches - count)\")\n",
    "offset = search_results[\"nextOffset\"]\n",
    "\n",
    "print(\"Total estimate matches (the number of images hit by the search term): \", total_num_files)\n",
    "print(\"The next offset is\", offset, \".\")\n",
    "\n",
    "\n",
    "while offset < total_num_files - count: \n",
    "    # Extract image files (2nd, 3rd, ..., and the last-1 attempt of the loop)\n",
    "    headers = {\"Ocp-Apim-Subscription-Key\" : subscription_key}\n",
    "    params  = {\"count\": count, \"q\": search_term, \"offset\": offset, \"license\": \"any\", \"imageType\": \"photo\"}  \n",
    "    response = requests.get(search_url, headers=headers, params=params)\n",
    "    response.raise_for_status()\n",
    "    search_results = response.json()\n",
    "    for img in search_results[\"value\"]:\n",
    "        thumbnail_urls.append(img[\"thumbnailUrl\"])\n",
    "        content_urls.append(img[\"contentUrl\"])\n",
    "        formats.append(img[\"encodingFormat\"])\n",
    "    offset = search_results[\"nextOffset\"]\n",
    "    print(\"The next offset is\", offset, \".\")\n",
    "else: \n",
    "    count = total_num_files - offset - 1\n",
    "    if count > 0: # Extract the remainig image files (the last attempt of the loop)\n",
    "        headers = {\"Ocp-Apim-Subscription-Key\" : subscription_key}\n",
    "        params  = {\"count\": count, \"q\": search_term, \"offset\": offset, \"license\": \"any\", \"imageType\": \"photo\"}  \n",
    "        response = requests.get(search_url, headers=headers, params=params)\n",
    "        response.raise_for_status()\n",
    "        search_results = response.json()\n",
    "        for img in search_results[\"value\"]:\n",
    "            thumbnail_urls.append(img[\"thumbnailUrl\"])\n",
    "            content_urls.append(img[\"contentUrl\"])\n",
    "            formats.append(img[\"encodingFormat\"])\n",
    "        offset = search_results[\"nextOffset\"]\n",
    "        print(\"The next offset is\", offset, \"(this is the end point).\")\n",
    "    print(\"The total number of images obtained:\", len(thumbnail_urls))"
   ]
  },
  {
   "cell_type": "code",
   "execution_count": 17,
   "metadata": {},
   "outputs": [],
   "source": [
    "# This code will download the images to the same folder as this ipynb file (this will take some minutes)\n",
    "for i, url in enumerate(thumbnail_urls): # if you want to download thumbnail files choose this line\n",
    "#for i, url in enumerate(content_urls): # if you want to download content (full size) files choose this line\n",
    "    fileName = str(i+1) + \".\" +formats[i]\n",
    "    req = requests.get(url)\n",
    "    f = open(fileName, 'wb')\n",
    "    f.write(req.content)\n",
    "    f.close()\n",
    "    \n",
    "##### NOTE: #####\n",
    "# To apply data augmentation below, you still need to keep downloaded files in the same folder as the folder containing your ipynb file.\n",
    "# (Do not transfer downloaded files until you complete the data augmentation by the below code.)\n",
    "# After data augmentation below code, you need to (create \"undamaged\" or \"damaged\" folder and) transfer these files into the folder manually."
   ]
  },
  {
   "cell_type": "markdown",
   "metadata": {},
   "source": [
    "As data augmentation, we flipped the images horizontally and add the flipped images to the data."
   ]
  },
  {
   "cell_type": "code",
   "execution_count": 18,
   "metadata": {},
   "outputs": [],
   "source": [
    "# This code will doncuct data augmentation (flip horizontally) for the downloaded files by above code.\n",
    "from PIL import Image\n",
    "from PIL import ImageOps\n",
    "\n",
    "for i, url in enumerate(thumbnail_urls): # if you downloaded thumbnail files choose this line\n",
    "#for i, url in enumerate(content_urls): # if you downloaded content (full size) files choose this line\n",
    "    fileName = str(i+1) + \".\" +formats[i]\n",
    "    fileName_mir = \"mir_\" + str(i+1) + \".\" +formats[i]\n",
    "    img = Image.open(fileName)\n",
    "    img_mir = ImageOps.mirror(img)\n",
    "    if formats[i] == \"jpg\" or formats[i] == \"jpeg\" or formats[i] == \"gif\" or formats[i] == \"png\":\n",
    "        # This is for the purpose of avoiding error due to irregular extention such as \".animatedgif\"\n",
    "        img_mir.save(fileName_mir)\n",
    "    "
   ]
  },
  {
   "cell_type": "markdown",
   "metadata": {},
   "source": [
    "* Note 1: After applying the code above, you will need to transfer these files into the specified folder (\"damaged\" or \"undamaged\") manually. \n",
    "* Note 2: Once you transfer the files, you can re-run the code to obtain images of damaged buildings by changing the search query. If you have run the code in part (a) twice (i.e. you have obtained images of both undamaged and damaged from Bing Image Search), you can move to part (b)."
   ]
  },
  {
   "cell_type": "markdown",
   "metadata": {},
   "source": [
    "### (b) Natural Hazards Image Database (damaged buildings)\n",
    "Second, we obtained images of damaged buildings from Natural Hazards Image Database where there are approximately 100 photos taken in the stricken areas by earthquakes such as the Great East Japan Earthquake in 2011. We used web scraping to obtain the data. In summary, we gained 83 images. As in part (a), we conducted data augmentation (flipped horizontally) to double the data. Therefore, we obtained 166 images of damaged buildings in total. While most images contain damaged (collapsed) buildings, some of the pictures contain several (not single) buildings and a few pictures do not appear to contain buildings."
   ]
  },
  {
   "cell_type": "code",
   "execution_count": 1,
   "metadata": {},
   "outputs": [],
   "source": [
    "import requests\n",
    "import sys\n",
    "from bs4 import BeautifulSoup as bs\n",
    "import time"
   ]
  },
  {
   "cell_type": "markdown",
   "metadata": {},
   "source": [
    "* Note:Before running the code below, make sure that you transferred image files downloaded in part (a) to the \"undamaged\" or \"damaged\" folders. "
   ]
  },
  {
   "cell_type": "code",
   "execution_count": 23,
   "metadata": {},
   "outputs": [],
   "source": [
    "# This code will extract urls of images from Natural Hazards Image Database by web scraping.\n",
    "\n",
    "# You can extract 39 images of 2011 Honshu Japan Earthquake and Tsunami from the following code.\n",
    "r1 = requests.get('https://www.ngdc.noaa.gov/hazardimages/event/show/256') \n",
    "\n",
    "# Extract 24 pictures of 2011 Christchurch New Zealand Earthquake\n",
    "r2 = requests.get('https://www.ngdc.noaa.gov/hazardimages/event/show/259') \n",
    "\n",
    "# Extract 20 pictures of 2010 Haiti Earthquake and Tsunami\n",
    "r3 = requests.get('https://www.ngdc.noaa.gov/hazardimages/event/show/258') \n",
    "\n",
    "links = []\n",
    "for i in [1,2,3]:\n",
    "    page = eval(\"r\"+str(i)).content\n",
    "    soup = bs(page, \"html.parser\")\n",
    "    lists = soup.find_all(\"li\", class_ = \"\")\n",
    "    for list_ in lists:\n",
    "        link = list_.img.get(\"src\")\n",
    "        links.append(link)"
   ]
  },
  {
   "cell_type": "code",
   "execution_count": 24,
   "metadata": {},
   "outputs": [],
   "source": [
    "# This code will download the pictures urls of which are stored in \"lists\"\n",
    "for link in links:\n",
    "    fileName = link.split(\"/\")[-1]\n",
    "    req = requests.get(link)\n",
    "    f = open(fileName, 'wb')\n",
    "    f.write(req.content)\n",
    "    f.close()\n",
    "\n",
    "##### NOTE #####\n",
    "# To apply data augmentation below, you still need to keep downloaded files in the same folder as the folder containing your ipynb file.\n",
    "# (Do not transfer downloaded files until you complete the data augmentation by the below code.)\n",
    "# After data augmentation below code, you need to transfer these files into the \"damaged\" folder manually."
   ]
  },
  {
   "cell_type": "code",
   "execution_count": 25,
   "metadata": {},
   "outputs": [],
   "source": [
    "#This code will conduct data augmentation (flip horizontally) \n",
    "for link in links:\n",
    "    fileName = link.split(\"/\")[-1]\n",
    "    fileName_mir = \"mir_\" + link.split(\"/\")[-1]\n",
    "    img = Image.open(fileName)\n",
    "    img_mir = ImageOps.mirror(img)\n",
    "    img_mir.save(fileName_mir)\n"
   ]
  },
  {
   "cell_type": "markdown",
   "metadata": {},
   "source": [
    "* Note: After downloading, you will need to transfer these files into the \"damaged\" folder manually."
   ]
  },
  {
   "cell_type": "markdown",
   "metadata": {},
   "source": [
    "### (c) Other Sources\n",
    "Finally, we acquired image data of undamaged buildings from The Oxford Building Dataset, which offers approximately 5,000 pictures collected from Flickr by searching for particular Oxford landmarks; however, many of the images are pictures of humans or pictures taken inside buildings. Thus, we decided not use this data."
   ]
  },
  {
   "cell_type": "markdown",
   "metadata": {},
   "source": [
    "#### Reference List\n",
    "- Microsoft Azure, \"Image Search API v7 reference\", https://docs.microsoft.com/en-us/rest/api/cognitiveservices/bing-images-api-v7-reference\n",
    "- \"Do you know why only 100 images is the limit? Can we have more than 100?\", https://github.com/hardikvasa/google-images-download/issues/7\n",
    "- \"ImageOps Module\" http://pillow.readthedocs.io/en/latest/reference/ImageOps.html#PIL.ImageOps.mirror\n",
    "- \"Natural Hazards Image Database\", https://www.ngdc.noaa.gov/hazardimages/\n",
    "- \"Do you know why only 100 images is the limit? Can we have more than 100?\", https://github.com/hardikvasa/google-images-download/issues/7\n",
    "- James Philbin, Relja Arandjelović and Andrew Zisserman, \"The Oxford Buildings Dataset\", http://www.robots.ox.ac.uk/~vgg/data/oxbuildings/"
   ]
  },
  {
   "cell_type": "markdown",
   "metadata": {},
   "source": [
    "## Part (2) Image Analysis (Establishing Models)\n",
    "Using the collected images (763 image files of damaged buildings and 1,160 image files of undamaged buildings), we conducted image analysis to establish classifiers which can classify \"damaged\" and \"undamaged\" buildings.  \n",
    "  \n",
    "First, we resized images and flattened them to make it easier to analyze. We labeled each image as \"damaged\" (y = 1) or \"undamaged\" (y = 0).  \n",
    "  \n",
    "Second, we divided the images into a training set and a test set randomly.  \n",
    "  \n",
    "Third, we conducted Principal Component Analysis (PCA) to reduce dimensions of image features. As the code below demonstrates, the first six principal components explain the variance well. Thus, we chose the number of components as six.  \n",
    "  \n",
    "Fourth, since this is a classification problem, we used Support Vector Machine (SVM) classifier, k-Nearest Neighbor (k-NN), Random Forest (RM) classifier, and neural network (NN) as classifiers. For SVM, k-NN, and RM, we performed 10-fold cross-validation to choose the best hyperparameter (C for SVM classifier, k for k-NN, and the number of trees (b) for RM classifier). Regarding neural network, we tried a single layer neural net, a two-layer neural net, and a two-layer neural net without dimension reduction.    \n",
    "  \n",
    "Finally, we evaluated the models with the best hyperparameters by computing a test error rate or accuracy and created a confusion matrix for each model for part (3).  "
   ]
  },
  {
   "cell_type": "code",
   "execution_count": 45,
   "metadata": {},
   "outputs": [],
   "source": [
    "from PIL import Image\n",
    "import numpy as np\n",
    "import os\n",
    "import pandas as pd\n",
    "import pylab as pl\n",
    "from sklearn.decomposition import PCA\n",
    "from sklearn.externals import joblib\n",
    "from sklearn.svm import SVC\n",
    "from sklearn.svm import LinearSVC\n",
    "from sklearn.neighbors import KNeighborsClassifier\n",
    "from sklearn.ensemble import RandomForestClassifier\n",
    "from sklearn.model_selection import KFold\n",
    "import glob\n",
    "# You need to install \"keras\" and \"tensorflow\" packages in your Python to run this code.\n",
    "from keras.utils import to_categorical\n",
    "from keras import models\n",
    "from keras import layers"
   ]
  },
  {
   "cell_type": "code",
   "execution_count": 46,
   "metadata": {},
   "outputs": [],
   "source": [
    "# This code will create functions to transform images\n",
    "\n",
    "# Define the size after resizing\n",
    "standard_size = (300, 167)\n",
    "\n",
    "# Resize an image to the standard_size (shape = (167, 300, 3))\n",
    "# and convert it numpy array of RGB pixels\n",
    "def img_to_matrix(filename):\n",
    "    img = Image.open(filename)\n",
    "    img = img.resize(standard_size)\n",
    "    img_array = np.array(img)\n",
    "    return img_array\n",
    "\n",
    "# Flatten a (m, n, l) numpy array into an array of shape (1, m * n * l)\n",
    "def flatten_image(img):\n",
    "    if len(img.shape)==3: # To avoid an error due to a few narray with an exceptional shape (m, n)\n",
    "            s = img.shape[0] * img.shape[1] * img.shape[2]\n",
    "            img_wide = img.reshape(1, s)\n",
    "            return img_wide[0] "
   ]
  },
  {
   "cell_type": "code",
   "execution_count": 47,
   "metadata": {},
   "outputs": [],
   "source": [
    "# This code will list each image files within \"damaged\" and \"undamaged\" folders in \"image\" folder \n",
    "# and label \"damaged\" to the files in \"damaged\" folder and \"undamaged\" to the files in \"undamaged\" folder \n",
    "images = []\n",
    "labels = []\n",
    "\n",
    "for image in glob.glob(\"./images/damaged/*.jpg\"):\n",
    "    images.append(image)\n",
    "    labels.append(\"damaged\")\n",
    "for image in glob.glob(\"./images/damaged/*.jpeg\"):\n",
    "    images.append(image)\n",
    "    labels.append(\"damaged\")\n",
    "for image in glob.glob(\"./images/damaged/*.gif\"):\n",
    "    images.append(image)\n",
    "    labels.append(\"damaged\")\n",
    "for image in glob.glob(\"./images/damaged/*.png\"):\n",
    "    images.append(image)\n",
    "    labels.append(\"damaged\")\n",
    "      \n",
    "for image in glob.glob(\"./images/undamaged/*.jpg\"):\n",
    "    images.append(image)\n",
    "    labels.append(\"undamaged\")\n",
    "for image in glob.glob(\"./images/undamaged/*.jpeg\"):\n",
    "    images.append(image)\n",
    "    labels.append(\"undamaged\")\n",
    "for image in glob.glob(\"./images/undamaged/*.gif\"):\n",
    "    images.append(image)\n",
    "    labels.append(\"undamaged\")\n",
    "for image in glob.glob(\"./images/undamaged/*.png\"):\n",
    "    images.append(image)\n",
    "    labels.append(\"undamaged\")"
   ]
  },
  {
   "cell_type": "code",
   "execution_count": 48,
   "metadata": {},
   "outputs": [],
   "source": [
    "# This code will create a function to process the data (convert image files into a numpy array)\n",
    "def data_processing(images, labels):         \n",
    "    data = []\n",
    "    \n",
    "    del_row = []\n",
    "    for i, image in enumerate(images):\n",
    "        # Apply the created functions above\n",
    "        img = img_to_matrix(image)\n",
    "        img = flatten_image(img)\n",
    "        \n",
    "        if img is not None: # To remove null row (the image whose shape was not (m, n, l) numpy array)\n",
    "            data.append(img)\n",
    "        if img is None:\n",
    "            del_row.append(i)\n",
    "\n",
    "    # Convert \"data\" list into numpy array\n",
    "    data = np.array(data)\n",
    "\n",
    "    # Remove the corresponding rows from \"labels\"\n",
    "    labels = np.delete(labels, del_row, axis = 0)\n",
    "    print(\"Images in row #\", del_row, \"were removed due to the irregular shape.\")\n",
    "    return data, labels"
   ]
  },
  {
   "cell_type": "code",
   "execution_count": 5,
   "metadata": {},
   "outputs": [
    {
     "name": "stdout",
     "output_type": "stream",
     "text": [
      "Images in row # [722, 723, 724, 725] were removed due to the irregular shape.\n"
     ]
    },
    {
     "data": {
      "text/plain": [
       "array([0.19880338, 0.0942502 , 0.05668722, 0.04152947, 0.03914788,\n",
       "       0.02474766, 0.02014306, 0.0161251 , 0.01382254, 0.0136698 ,\n",
       "       0.01188621, 0.01024629, 0.00867681, 0.00847302, 0.00776684,\n",
       "       0.00703954, 0.00673103, 0.00659129, 0.00557721, 0.00556092])"
      ]
     },
     "execution_count": 5,
     "metadata": {},
     "output_type": "execute_result"
    }
   ],
   "source": [
    "# This code will print the variance ratio explained by each principle component.\n",
    "# We can check the explained variance ratio by PCA to determine the number of principal components.\n",
    "data, cleaned_labels = data_processing(images, labels)\n",
    "pca = PCA()\n",
    "pca.fit(data)\n",
    "pca.explained_variance_ratio_[:20] # display only the first ten (20) principal components"
   ]
  },
  {
   "cell_type": "markdown",
   "metadata": {},
   "source": [
    "The result above shows that the first principal component explains 19.9%, the second explains 9.4%, the third explains 5.7%, the fourth explains 4.2%, the fifth explains 2.5%, and the sixthe explains 2.0% of the variance. Thus, we chose the number of components as six (6).  \n",
    "  \n",
    "Then, we labeled each image as \"damaged\" (y = 1) or \"undamaged\" (y = 0), divided the images into a training set and a test set randomly, and conducted Principal Component Analysis (PCA) to reduce dimensions of image features. "
   ]
  },
  {
   "cell_type": "code",
   "execution_count": 49,
   "metadata": {},
   "outputs": [
    {
     "name": "stdout",
     "output_type": "stream",
     "text": [
      "Images in row # [722, 723, 724, 725] were removed due to the irregular shape.\n",
      "The number of images of damaged buildings in total: 756\n",
      "The number of images of undamaged buildings in total: 1154\n",
      "The number of training samples: 1528\n",
      "The number of images of damaged buildings in the training samples: 593\n",
      "The number of images of undamaged buildings in the training samples: 935\n",
      "The number of test samples: 382\n",
      "The number of images of damaged buildings in the test samples: 163\n",
      "The number of images of undamaged buildings in the test samples: 219\n"
     ]
    }
   ],
   "source": [
    "# This code will divide data into a training set and a test set randomly, \n",
    "# then conduct dimensionality reduction with PCA (dimension will reduce from 150300 to 6)\n",
    "\n",
    "data, new_labels = data_processing(images, labels)\n",
    "y = np.where(np.array(new_labels) == 'damaged', 1, 0) # Labeleach image as \"damaged\" (y = 1) and \"undamaged\" (y = 0)\n",
    "np.random.seed(94774)\n",
    "random_ordering_of_data = np.random.permutation(len(data))\n",
    "train_frac = 0.80 # Define the ratio of training data as 80% of the entire data\n",
    "num_training_data = int(train_frac * len(data))\n",
    "train_indices = random_ordering_of_data[:num_training_data]\n",
    "test_indices = random_ordering_of_data[num_training_data:]\n",
    "train_x = data[train_indices]\n",
    "train_y = y[train_indices]\n",
    "test_x = data[test_indices]\n",
    "test_y = y[test_indices]\n",
    "\n",
    "print(\"The number of images of damaged buildings in total:\", len(y[y==1]))\n",
    "print(\"The number of images of undamaged buildings in total:\", len(y[y==0]))\n",
    "      \n",
    "print(\"The number of training samples:\", len(train_y))\n",
    "print(\"The number of images of damaged buildings in the training samples:\", len(train_y[train_y==1]))\n",
    "print(\"The number of images of undamaged buildings in the training samples:\", len(train_y[train_y==0]))\n",
    "\n",
    "print(\"The number of test samples:\", len(test_y))\n",
    "print(\"The number of images of damaged buildings in the test samples:\", len(test_y[test_y==1]))\n",
    "print(\"The number of images of undamaged buildings in the test samples:\", len(test_y[test_y==0]))\n",
    "\n",
    "## Reduce demension to 6 principal components\n",
    "pca = PCA(n_components = 6)\n",
    "train_x = pca.fit_transform(train_x)\n",
    "test_x = pca.fit_transform(test_x)"
   ]
  },
  {
   "cell_type": "code",
   "execution_count": 7,
   "metadata": {},
   "outputs": [
    {
     "data": {
      "text/plain": [
       "<matplotlib.legend.Legend at 0x174e7e18390>"
      ]
     },
     "execution_count": 7,
     "metadata": {},
     "output_type": "execute_result"
    },
    {
     "data": {
      "image/png": "[encoded data removed]",
      "text/plain": [
       "<matplotlib.figure.Figure at 0x174de0292e8>"
      ]
     },
     "metadata": {},
     "output_type": "display_data"
    }
   ],
   "source": [
    "## This code will plot the 1st and 2nd principle components.\n",
    "pca = PCA(n_components=2)\n",
    "X = pca.fit_transform(data)\n",
    "df = pd.DataFrame({\"x\": X[:, 0], \"y\": X[:, 1], \"label\": np.where(y == 1, 'damaged', 'undamaged')})\n",
    "colors = ['red', 'yellow']\n",
    "for label, color in zip(df['label'].unique(), colors):\n",
    "    mask = df['label'] == label\n",
    "    pl.scatter(df[mask]['x'], df[mask]['y'], c=color, label=label)\n",
    "pl.legend()"
   ]
  },
  {
   "cell_type": "markdown",
   "metadata": {},
   "source": [
    "According to the plot above, it appears that there is no large difference of the first and the second components between damaged buildings and undamaged buildings. "
   ]
  },
  {
   "cell_type": "markdown",
   "metadata": {},
   "source": [
    "### (1) Support Vector Machine (SVM) classifier  \n",
    "First, we conducted 10-fold cross-validation in the training dataset to choose the best C for the SVM classifier.  \n",
    "Then, we fitted the model with the best hyperparameter to the entire training dataset and evaluated the model in the unseen test set."
   ]
  },
  {
   "cell_type": "code",
   "execution_count": 50,
   "metadata": {},
   "outputs": [],
   "source": [
    "# This code will create a function to conduct cross-validation to choose the best hyperparameter.\n",
    "def CV_SVC(train_x, train_y):\n",
    "    lowest_cross_val_error = np.inf\n",
    "    best_C = None\n",
    "    indices = range(len(train_x))\n",
    "    kf = KFold(n_splits=10, random_state=94775)\n",
    "\n",
    "    for C in [1e-2, 1e-1, 1, 10, 100, 1000]:\n",
    "        errors = []\n",
    "        for train_indices, val_indices in kf.split(indices):\n",
    "            classifier = LinearSVC(C=C, random_state=94775)\n",
    "            classifier.fit(train_x[train_indices], train_y[train_indices])\n",
    "            predicted_val_labels = classifier.predict(train_x[val_indices])\n",
    "            error = np.mean(predicted_val_labels != train_y[val_indices])\n",
    "            errors.append(error)\n",
    "        \n",
    "        cross_val_error = np.mean(errors)\n",
    "        print('C:', C, 'cross validation error:', cross_val_error)\n",
    "\n",
    "        if cross_val_error < lowest_cross_val_error:\n",
    "            lowest_cross_val_error = cross_val_error\n",
    "            best_C = C\n",
    "\n",
    "    print('Best C:', best_C, 'cross validation error:', lowest_cross_val_error)\n",
    "    return best_C"
   ]
  },
  {
   "cell_type": "code",
   "execution_count": 51,
   "metadata": {},
   "outputs": [
    {
     "name": "stdout",
     "output_type": "stream",
     "text": [
      "C: 0.01 cross validation error: 0.48630460956312344\n",
      "C: 0.1 cross validation error: 0.4856510147918816\n",
      "C: 1 cross validation error: 0.4856510147918816\n",
      "C: 10 cross validation error: 0.4856510147918816\n",
      "C: 100 cross validation error: 0.4856510147918816\n",
      "C: 1000 cross validation error: 0.4856510147918816\n",
      "Best C: 0.1 cross validation error: 0.4856510147918816\n",
      "Test_set_error of SVM classifier with the best C: 0.5052356020942408\n",
      "The confusion matrix is as follows:\n"
     ]
    },
    {
     "data": {
      "text/html": [
       "<div>\n",
       "<style scoped>\n",
       "    .dataframe tbody tr th:only-of-type {\n",
       "        vertical-align: middle;\n",
       "    }\n",
       "\n",
       "    .dataframe tbody tr th {\n",
       "        vertical-align: top;\n",
       "    }\n",
       "\n",
       "    .dataframe thead th {\n",
       "        text-align: right;\n",
       "    }\n",
       "</style>\n",
       "<table border=\"1\" class=\"dataframe\">\n",
       "  <thead>\n",
       "    <tr style=\"text-align: right;\">\n",
       "      <th>Predicted</th>\n",
       "      <th>0</th>\n",
       "      <th>1</th>\n",
       "    </tr>\n",
       "    <tr>\n",
       "      <th>Actual</th>\n",
       "      <th></th>\n",
       "      <th></th>\n",
       "    </tr>\n",
       "  </thead>\n",
       "  <tbody>\n",
       "    <tr>\n",
       "      <th>0</th>\n",
       "      <td>105</td>\n",
       "      <td>114</td>\n",
       "    </tr>\n",
       "    <tr>\n",
       "      <th>1</th>\n",
       "      <td>79</td>\n",
       "      <td>84</td>\n",
       "    </tr>\n",
       "  </tbody>\n",
       "</table>\n",
       "</div>"
      ],
      "text/plain": [
       "Predicted    0    1\n",
       "Actual             \n",
       "0          105  114\n",
       "1           79   84"
      ]
     },
     "execution_count": 51,
     "metadata": {},
     "output_type": "execute_result"
    }
   ],
   "source": [
    "# This code will fit the model with the best hyperparameter to the train set\n",
    "# and evaluate the best SVM classifier in the test set\n",
    "\n",
    "# Apply the function above to assign the best hyperparameter\n",
    "best_C = CV_SVC(train_x, train_y)\n",
    "\n",
    "# Fit the classifier with the best C to the \"entire\" training set\n",
    "final_svm_classifier = LinearSVC(C=best_C, random_state=94775)\n",
    "final_svm_classifier.fit(train_x, train_y)\n",
    "\n",
    "# Evaluate the model in the \"unseen\" test set\n",
    "predicted_test_labels = final_svm_classifier.predict(test_x)\n",
    "test_set_error = np.mean(predicted_test_labels != test_y)\n",
    "print(\"Test_set_error of SVM classifier with the best C:\", test_set_error)\n",
    "\n",
    "# Create a confusion matrix\n",
    "print(\"The confusion matrix is as follows:\")\n",
    "cm_svc = pd.crosstab(test_y, predicted_test_labels, rownames=['Actual'], colnames=['Predicted'])\n",
    "cm_svc"
   ]
  },
  {
   "cell_type": "markdown",
   "metadata": {},
   "source": [
    "As a result, the the best hyperperameter for a SVM classifier is 0.1 (C = 0.1), and the test set error of the best SVM classifier is 50.5% (accuracy is 49.5%)."
   ]
  },
  {
   "cell_type": "markdown",
   "metadata": {},
   "source": [
    "### (2) k-Nearest Neighbor (k-NN) \n",
    "First, we conducted 10-fold cross-validation in the training dataset to choose the best k for the k-Nearest Neighbor.  \n",
    "Then, we fitted the model with the best hyperparameter to the entire training dataset and evaluated the model in the unseen test set."
   ]
  },
  {
   "cell_type": "code",
   "execution_count": 52,
   "metadata": {},
   "outputs": [],
   "source": [
    "# This code will create a function to conduct cross-validation to choose the best hyperparameter.\n",
    "def CV_kNN(train_x, train_y):\n",
    "    lowest_cross_val_error = np.inf\n",
    "    best_k = None\n",
    "    indices = range(len(train_x))\n",
    "#    kf = KFold(n_splits=10, shuffle=True, random_state=94775)\n",
    "    kf = KFold(n_splits=10, random_state=94775)\n",
    "    for k in [3, 5, 15, 25, 50]:\n",
    "        errors = []\n",
    "        for train_indices, val_indices in kf.split(indices):\n",
    "            classifier = KNeighborsClassifier(n_neighbors=k)\n",
    "            classifier.fit(train_x[train_indices], train_y[train_indices])\n",
    "            predicted_val_labels = classifier.predict(train_x[val_indices])\n",
    "            error = np.mean(predicted_val_labels != train_y[val_indices])\n",
    "            errors.append(error)\n",
    "        \n",
    "        cross_val_error = np.mean(errors)\n",
    "        print('k:', k, 'cross validation error:', cross_val_error)\n",
    "\n",
    "        if cross_val_error < lowest_cross_val_error:\n",
    "            lowest_cross_val_error = cross_val_error\n",
    "            best_k = k\n",
    "\n",
    "    print('Best k:', best_k, 'cross validation error:', lowest_cross_val_error)\n",
    "    return best_k"
   ]
  },
  {
   "cell_type": "code",
   "execution_count": 53,
   "metadata": {},
   "outputs": [
    {
     "name": "stdout",
     "output_type": "stream",
     "text": [
      "k: 3 cross validation error: 0.3619754041967664\n",
      "k: 5 cross validation error: 0.33384072927416575\n",
      "k: 15 cross validation error: 0.3652476780185759\n",
      "k: 25 cross validation error: 0.38161764705882356\n",
      "k: 50 cross validation error: 0.38095115239078087\n",
      "Best k: 5 cross validation error: 0.33384072927416575\n",
      "Test_set_error of k-Nearest Neighbor with the best k: 0.306282722513089\n",
      "The confusion matrix is as follows:\n"
     ]
    },
    {
     "data": {
      "text/html": [
       "<div>\n",
       "<style scoped>\n",
       "    .dataframe tbody tr th:only-of-type {\n",
       "        vertical-align: middle;\n",
       "    }\n",
       "\n",
       "    .dataframe tbody tr th {\n",
       "        vertical-align: top;\n",
       "    }\n",
       "\n",
       "    .dataframe thead th {\n",
       "        text-align: right;\n",
       "    }\n",
       "</style>\n",
       "<table border=\"1\" class=\"dataframe\">\n",
       "  <thead>\n",
       "    <tr style=\"text-align: right;\">\n",
       "      <th>Predicted</th>\n",
       "      <th>0</th>\n",
       "      <th>1</th>\n",
       "    </tr>\n",
       "    <tr>\n",
       "      <th>Actual</th>\n",
       "      <th></th>\n",
       "      <th></th>\n",
       "    </tr>\n",
       "  </thead>\n",
       "  <tbody>\n",
       "    <tr>\n",
       "      <th>0</th>\n",
       "      <td>180</td>\n",
       "      <td>39</td>\n",
       "    </tr>\n",
       "    <tr>\n",
       "      <th>1</th>\n",
       "      <td>78</td>\n",
       "      <td>85</td>\n",
       "    </tr>\n",
       "  </tbody>\n",
       "</table>\n",
       "</div>"
      ],
      "text/plain": [
       "Predicted    0   1\n",
       "Actual            \n",
       "0          180  39\n",
       "1           78  85"
      ]
     },
     "execution_count": 53,
     "metadata": {},
     "output_type": "execute_result"
    }
   ],
   "source": [
    "# This code will fit the model with the best hyperparameter to the train set\n",
    "# and evaluate the best SVM classifier in the test set\n",
    "\n",
    "# Apply the function above to assign the best hyperparameter\n",
    "best_k = CV_kNN(train_x, train_y)\n",
    "\n",
    "# Fit the classifier with the best hyperparameter to the \"entire\" training set\n",
    "final_knn_classifier = KNeighborsClassifier(n_neighbors=best_k)\n",
    "final_knn_classifier.fit(train_x, train_y)\n",
    "\n",
    "# Evaluate the model in the \"unseen\" test set\n",
    "predicted_test_labels = final_knn_classifier.predict(test_x)\n",
    "test_set_error = np.mean(predicted_test_labels != test_y)\n",
    "print(\"Test_set_error of k-Nearest Neighbor with the best k:\", test_set_error)\n",
    "\n",
    "# Create a confusion matrix\n",
    "print(\"The confusion matrix is as follows:\")\n",
    "cm_knn = pd.crosstab(test_y, predicted_test_labels, rownames=['Actual'], colnames=['Predicted'])\n",
    "cm_knn"
   ]
  },
  {
   "cell_type": "markdown",
   "metadata": {},
   "source": [
    "As a result, the the best hyperperameter for a k-Nearest Neighbor is 5 (k = 5), and the test set error of the best SVM classifier is 30.6% (accuracy is 69.4%)."
   ]
  },
  {
   "cell_type": "markdown",
   "metadata": {},
   "source": [
    "### (3) Random Forest classifier (RF) \n",
    "First, we conducted 10-fold cross-validation in the training dataset to choose the best b (number of trees) for the Random Forest classifier.  \n",
    "Then, we fitted the model with the best hyperparameter to the entire training dataset and evaluated the model in the unseen test set."
   ]
  },
  {
   "cell_type": "code",
   "execution_count": 54,
   "metadata": {},
   "outputs": [],
   "source": [
    "# This code will create a function to conduct cross-validation to choose the best hyperparameter.\n",
    "def CV_RF(train_x, train_y):\n",
    "    lowest_cross_val_error = np.inf\n",
    "    best_b = None\n",
    "    indices = range(len(train_x))\n",
    "    kf = KFold(n_splits=10, shuffle=True, random_state=94775)\n",
    "    for b in [50, 100, 150, 200, 250]:\n",
    "        errors = []\n",
    "        for train_indices, val_indices in kf.split(indices):\n",
    "            classifier = RandomForestClassifier(n_estimators=b, random_state=94775)\n",
    "            classifier.fit(train_x[train_indices], train_y[train_indices])\n",
    "            predicted_val_labels = classifier.predict(train_x[val_indices])\n",
    "            error = np.mean(predicted_val_labels != train_y[val_indices])\n",
    "            errors.append(error)\n",
    "        \n",
    "        cross_val_error = np.mean(errors)\n",
    "        print('b:', b, 'cross validation error:', cross_val_error)\n",
    "\n",
    "        if cross_val_error < lowest_cross_val_error:\n",
    "            lowest_cross_val_error = cross_val_error\n",
    "            best_b = b\n",
    "\n",
    "    print('Best b:', best_b, 'cross validation error:', lowest_cross_val_error)\n",
    "    return best_b"
   ]
  },
  {
   "cell_type": "code",
   "execution_count": 55,
   "metadata": {},
   "outputs": [
    {
     "name": "stdout",
     "output_type": "stream",
     "text": [
      "b: 50 cross validation error: 0.22705108359133125\n",
      "b: 100 cross validation error: 0.21788785689714482\n",
      "b: 150 cross validation error: 0.21658926728586173\n",
      "b: 200 cross validation error: 0.21526487788097698\n",
      "b: 250 cross validation error: 0.21526917784657726\n",
      "Best b: 200 cross validation error: 0.21526487788097698\n",
      "Test_set_error of Random Forest with the best b: 0.3298429319371728\n",
      "The confusion matrix is as follows:\n"
     ]
    },
    {
     "data": {
      "text/html": [
       "<div>\n",
       "<style scoped>\n",
       "    .dataframe tbody tr th:only-of-type {\n",
       "        vertical-align: middle;\n",
       "    }\n",
       "\n",
       "    .dataframe tbody tr th {\n",
       "        vertical-align: top;\n",
       "    }\n",
       "\n",
       "    .dataframe thead th {\n",
       "        text-align: right;\n",
       "    }\n",
       "</style>\n",
       "<table border=\"1\" class=\"dataframe\">\n",
       "  <thead>\n",
       "    <tr style=\"text-align: right;\">\n",
       "      <th>Predicted</th>\n",
       "      <th>0</th>\n",
       "      <th>1</th>\n",
       "    </tr>\n",
       "    <tr>\n",
       "      <th>Actual</th>\n",
       "      <th></th>\n",
       "      <th></th>\n",
       "    </tr>\n",
       "  </thead>\n",
       "  <tbody>\n",
       "    <tr>\n",
       "      <th>0</th>\n",
       "      <td>190</td>\n",
       "      <td>29</td>\n",
       "    </tr>\n",
       "    <tr>\n",
       "      <th>1</th>\n",
       "      <td>97</td>\n",
       "      <td>66</td>\n",
       "    </tr>\n",
       "  </tbody>\n",
       "</table>\n",
       "</div>"
      ],
      "text/plain": [
       "Predicted    0   1\n",
       "Actual            \n",
       "0          190  29\n",
       "1           97  66"
      ]
     },
     "execution_count": 55,
     "metadata": {},
     "output_type": "execute_result"
    }
   ],
   "source": [
    "# This code will fit the model with the best hyperparameter to the train set\n",
    "# and evaluate the best SVM classifier in the test set\n",
    "\n",
    "# Apply the function above to assign the best hyperparameter\n",
    "best_b = CV_RF(train_x, train_y)\n",
    "\n",
    "# Fit a classifier with the best b to the \"entire\" training set\n",
    "final_rf_classifier = RandomForestClassifier(n_estimators=best_b, random_state=94775)\n",
    "final_rf_classifier.fit(train_x, train_y)\n",
    "\n",
    "# Evaluate the model in the \"unseen\" test set\n",
    "predicted_test_labels = final_rf_classifier.predict(test_x)\n",
    "test_set_error = np.mean(predicted_test_labels != test_y)\n",
    "print(\"Test_set_error of Random Forest with the best b:\", test_set_error)\n",
    "\n",
    "# Create a confusion matrix\n",
    "print(\"The confusion matrix is as follows:\")\n",
    "cm_rf = pd.crosstab(test_y, predicted_test_labels, rownames=['Actual'], colnames=['Predicted'])\n",
    "cm_rf"
   ]
  },
  {
   "cell_type": "markdown",
   "metadata": {},
   "source": [
    "As a result, the the best hyperperameter for a Random Forest classifier is 200 (b = 200), and the test set error of the best SVM classifier is 33.0% (accuracy is 67.0%)."
   ]
  },
  {
   "cell_type": "markdown",
   "metadata": {},
   "source": [
    "### (4) Neural network (NN) \n",
    "First, we .  \n",
    "Then, "
   ]
  },
  {
   "cell_type": "markdown",
   "metadata": {},
   "source": [
    "#### (a) Single-layer neural net\n",
    "We..."
   ]
  },
  {
   "cell_type": "code",
   "execution_count": 29,
   "metadata": {},
   "outputs": [],
   "source": [
    "# This code will...\n",
    "#code to apply neural nets\n",
    "from keras.utils import to_categorical\n",
    "train_labels_categorical = to_categorical(train_y)\n",
    "test_labels_categorical = to_categorical(test_y)"
   ]
  },
  {
   "cell_type": "code",
   "execution_count": 30,
   "metadata": {},
   "outputs": [
    {
     "data": {
      "text/plain": [
       "array([ -816.26016965,  8079.45356229,  3492.83630898,  -672.21957669,\n",
       "       -4377.6510817 ,  2665.30219031])"
      ]
     },
     "execution_count": 30,
     "metadata": {},
     "output_type": "execute_result"
    }
   ],
   "source": [
    "train_x[0]"
   ]
  },
  {
   "cell_type": "code",
   "execution_count": 31,
   "metadata": {},
   "outputs": [
    {
     "data": {
      "text/plain": [
       "array([0., 1.], dtype=float32)"
      ]
     },
     "execution_count": 31,
     "metadata": {},
     "output_type": "execute_result"
    }
   ],
   "source": [
    "train_labels_categorical[0]"
   ]
  },
  {
   "cell_type": "code",
   "execution_count": 32,
   "metadata": {},
   "outputs": [
    {
     "name": "stdout",
     "output_type": "stream",
     "text": [
      "(1528, 6)\n"
     ]
    }
   ],
   "source": [
    "print(train_x.shape)"
   ]
  },
  {
   "cell_type": "code",
   "execution_count": 33,
   "metadata": {},
   "outputs": [
    {
     "name": "stdout",
     "output_type": "stream",
     "text": [
      "_________________________________________________________________\n",
      "Layer (type)                 Output Shape              Param #   \n",
      "=================================================================\n",
      "dense_6 (Dense)              (None, 2)                 14        \n",
      "=================================================================\n",
      "Total params: 14\n",
      "Trainable params: 14\n",
      "Non-trainable params: 0\n",
      "_________________________________________________________________\n",
      "None\n"
     ]
    }
   ],
   "source": [
    "# This code will...\n",
    "from keras import models\n",
    "from keras import layers\n",
    "\n",
    "shallow_single_layer_mod = models.Sequential()  # this is Keras's way of specifying a model that is a single sequence of layers\n",
    "shallow_single_layer_mod.add(layers.Dense(2, activation='softmax', input_shape=(6,))) #since it is a 2 class classifier, therefore 2\n",
    "\n",
    "# the line below is not required for constructing the model and just gives a summary of the model\n",
    "print(shallow_single_layer_mod.summary())"
   ]
  },
  {
   "cell_type": "code",
   "execution_count": 34,
   "metadata": {},
   "outputs": [],
   "source": [
    "# This code will...\n",
    "\n",
    "# the lecture slides explains the loss (which is an error function) that the optimizer will try to minimize;\n",
    "# there are some optimizers that are popularly used for training neural nets such as stochastic gradient\n",
    "# descent (SGD), RMSProp, and Adam (for the purposes of this class, don't worry about what these are)\n",
    "shallow_single_layer_mod.compile(optimizer='rmsprop',\n",
    "                                   loss='categorical_crossentropy',\n",
    "                                   metrics=['accuracy'])  # metrics says what accuracy metrics to display when training"
   ]
  },
  {
   "cell_type": "code",
   "execution_count": 35,
   "metadata": {},
   "outputs": [
    {
     "name": "stdout",
     "output_type": "stream",
     "text": [
      "Train on 1222 samples, validate on 306 samples\n",
      "Epoch 1/5\n",
      "1222/1222 [==============================] - 0s 260us/step - loss: 8.9376 - acc: 0.4452 - val_loss: 8.9018 - val_acc: 0.4477\n",
      "Epoch 2/5\n",
      "1222/1222 [==============================] - 0s 24us/step - loss: 8.9608 - acc: 0.4435 - val_loss: 8.9018 - val_acc: 0.4477\n",
      "Epoch 3/5\n",
      "1222/1222 [==============================] - 0s 21us/step - loss: 8.9571 - acc: 0.4435 - val_loss: 8.9354 - val_acc: 0.4444\n",
      "Epoch 4/5\n",
      "1222/1222 [==============================] - 0s 28us/step - loss: 8.9398 - acc: 0.4452 - val_loss: 9.0072 - val_acc: 0.4412\n",
      "Epoch 5/5\n",
      "1222/1222 [==============================] - 0s 30us/step - loss: 8.9624 - acc: 0.4435 - val_loss: 8.9623 - val_acc: 0.4412\n"
     ]
    },
    {
     "data": {
      "text/plain": [
       "<keras.callbacks.History at 0x174f61c54a8>"
      ]
     },
     "execution_count": 35,
     "metadata": {},
     "output_type": "execute_result"
    }
   ],
   "source": [
    "# This code will...\n",
    "\n",
    "shallow_single_layer_mod.fit(train_x,\n",
    "                               train_labels_categorical,\n",
    "                               validation_split=0.2,\n",
    "                               epochs=5,\n",
    "                               batch_size=128)"
   ]
  },
  {
   "cell_type": "code",
   "execution_count": 36,
   "metadata": {
    "scrolled": true
   },
   "outputs": [
    {
     "name": "stdout",
     "output_type": "stream",
     "text": [
      "382/382 [==============================] - 0s 38us/step\n",
      "Test accuracy: 0.41099476658236916\n"
     ]
    }
   ],
   "source": [
    "# This code will...\n",
    "test_loss, test_acc = shallow_single_layer_mod.evaluate(test_x,\n",
    "                                                          test_labels_categorical)\n",
    "print('Test accuracy:', test_acc)"
   ]
  },
  {
   "cell_type": "markdown",
   "metadata": {},
   "source": [
    "#### (b) 2-layer neural net\n",
    "We..."
   ]
  },
  {
   "cell_type": "code",
   "execution_count": 37,
   "metadata": {},
   "outputs": [
    {
     "name": "stdout",
     "output_type": "stream",
     "text": [
      "_________________________________________________________________\n",
      "Layer (type)                 Output Shape              Param #   \n",
      "=================================================================\n",
      "dense_7 (Dense)              (None, 250)               1750      \n",
      "_________________________________________________________________\n",
      "dense_8 (Dense)              (None, 2)                 502       \n",
      "=================================================================\n",
      "Total params: 2,252\n",
      "Trainable params: 2,252\n",
      "Non-trainable params: 0\n",
      "_________________________________________________________________\n",
      "None\n"
     ]
    }
   ],
   "source": [
    "# This code will...\n",
    "two_layer_model = models.Sequential()  # this is Keras's way of specifying a model that is a single sequence of layers\n",
    "two_layer_model.add(layers.Dense(250, activation='relu', input_shape=(6,))) #optimized to get best accuracy at 250\n",
    "two_layer_model.add(layers.Dense(2, activation='softmax'))\n",
    "\n",
    "print(two_layer_model.summary())\n",
    "\n",
    "\n",
    "two_layer_model.compile(optimizer='rmsprop',\n",
    "                        loss='categorical_crossentropy',\n",
    "                        metrics=['accuracy'])"
   ]
  },
  {
   "cell_type": "code",
   "execution_count": 38,
   "metadata": {},
   "outputs": [
    {
     "name": "stdout",
     "output_type": "stream",
     "text": [
      "Train on 1222 samples, validate on 306 samples\n",
      "Epoch 1/5\n",
      "1222/1222 [==============================] - 0s 299us/step - loss: 9.2544 - acc: 0.4255 - val_loss: 9.1563 - val_acc: 0.4281\n",
      "Epoch 2/5\n",
      "1222/1222 [==============================] - 0s 20us/step - loss: 8.6483 - acc: 0.4624 - val_loss: 8.6627 - val_acc: 0.4608\n",
      "Epoch 3/5\n",
      "1222/1222 [==============================] - 0s 22us/step - loss: 8.1620 - acc: 0.4918 - val_loss: 8.9018 - val_acc: 0.4477\n",
      "Epoch 4/5\n",
      "1222/1222 [==============================] - 0s 32us/step - loss: 7.8322 - acc: 0.5123 - val_loss: 7.1544 - val_acc: 0.5556\n",
      "Epoch 5/5\n",
      "1222/1222 [==============================] - 0s 33us/step - loss: 6.7825 - acc: 0.5786 - val_loss: 7.3639 - val_acc: 0.5425\n"
     ]
    },
    {
     "data": {
      "text/plain": [
       "<keras.callbacks.History at 0x174f64217b8>"
      ]
     },
     "execution_count": 38,
     "metadata": {},
     "output_type": "execute_result"
    }
   ],
   "source": [
    "# This code will...\n",
    "two_layer_model.fit(train_x,\n",
    "                    train_labels_categorical,\n",
    "                    validation_split=0.2,\n",
    "                    epochs=5,\n",
    "                    batch_size=128)"
   ]
  },
  {
   "cell_type": "code",
   "execution_count": 39,
   "metadata": {},
   "outputs": [
    {
     "name": "stdout",
     "output_type": "stream",
     "text": [
      "382/382 [==============================] - 0s 44us/step\n",
      "Test accuracy: 0.5890052374744914\n"
     ]
    }
   ],
   "source": [
    "# This code will...\n",
    "test_loss, test_acc = two_layer_model.evaluate(test_x, test_labels_categorical)\n",
    "print('Test accuracy:', test_acc)"
   ]
  },
  {
   "cell_type": "code",
   "execution_count": 40,
   "metadata": {},
   "outputs": [
    {
     "name": "stdout",
     "output_type": "stream",
     "text": [
      "<class 'numpy.ndarray'>\n",
      "The confusion matrix is as follows:\n"
     ]
    },
    {
     "data": {
      "text/html": [
       "<div>\n",
       "<style scoped>\n",
       "    .dataframe tbody tr th:only-of-type {\n",
       "        vertical-align: middle;\n",
       "    }\n",
       "\n",
       "    .dataframe tbody tr th {\n",
       "        vertical-align: top;\n",
       "    }\n",
       "\n",
       "    .dataframe thead th {\n",
       "        text-align: right;\n",
       "    }\n",
       "</style>\n",
       "<table border=\"1\" class=\"dataframe\">\n",
       "  <thead>\n",
       "    <tr style=\"text-align: right;\">\n",
       "      <th>Predicted</th>\n",
       "      <th>0</th>\n",
       "      <th>1</th>\n",
       "    </tr>\n",
       "    <tr>\n",
       "      <th>Actual</th>\n",
       "      <th></th>\n",
       "      <th></th>\n",
       "    </tr>\n",
       "  </thead>\n",
       "  <tbody>\n",
       "    <tr>\n",
       "      <th>0</th>\n",
       "      <td>110</td>\n",
       "      <td>109</td>\n",
       "    </tr>\n",
       "    <tr>\n",
       "      <th>1</th>\n",
       "      <td>48</td>\n",
       "      <td>115</td>\n",
       "    </tr>\n",
       "  </tbody>\n",
       "</table>\n",
       "</div>"
      ],
      "text/plain": [
       "Predicted    0    1\n",
       "Actual             \n",
       "0          110  109\n",
       "1           48  115"
      ]
     },
     "execution_count": 40,
     "metadata": {},
     "output_type": "execute_result"
    }
   ],
   "source": [
    "# This code will...\n",
    "#predicted_test_labels = shallow_single_layer_mod.predict(test_x)  # if the performance of the single layer model is better, use this line\n",
    "predicted_test_labels = two_layer_model.predict(test_x) # if the performance of the two layer model is better, use this line\n",
    "\n",
    "predict_y= []\n",
    "for row in predicted_test_labels:\n",
    "    if row[0] < row[1]:\n",
    "        predict_y.append(1)\n",
    "    else:\n",
    "        predict_y.append(0)\n",
    "    \n",
    "#predicted_test_y = np.where(np.array(predicted_test_labels) == [0,1], 1, 0)\n",
    "print(type(test_y))\n",
    "#test_set_error = np.mean(predicted_test_labels != test_y)\n",
    "#print(\"Test_set_error of Random Forest with the best b:\", test_set_error)\n",
    "# Create a confusion matrix#\n",
    "print(\"The confusion matrix is as follows:\")\n",
    "cm_nn = pd.crosstab(test_y, np.array(predict_y), rownames=['Actual'], colnames=['Predicted'])\n",
    "cm_nn"
   ]
  },
  {
   "cell_type": "markdown",
   "metadata": {},
   "source": [
    "#### (c) 2-layer neural net without dimensional reduction\n",
    "We also tried neural network without dimensional reduction (we used data before conducting PCA)."
   ]
  },
  {
   "cell_type": "code",
   "execution_count": 15,
   "metadata": {},
   "outputs": [
    {
     "data": {
      "text/plain": [
       "(1528, 150300)"
      ]
     },
     "execution_count": 15,
     "metadata": {},
     "output_type": "execute_result"
    }
   ],
   "source": [
    "# This code will redefine training and test data  \n",
    "train_x_original = data[train_indices]\n",
    "train_y_original = y[train_indices]\n",
    "test_x_original = data[test_indices]\n",
    "test_y_original = y[test_indices]\n",
    "\n",
    "train_labels_categorical_original = to_categorical(train_y_original)\n",
    "test_labels_categorical_original = to_categorical(test_y_original)\n",
    "\n",
    "train_x_original.shape"
   ]
  },
  {
   "cell_type": "code",
   "execution_count": 17,
   "metadata": {},
   "outputs": [],
   "source": [
    "# This code will specify a model\n",
    "two_layer_model = models.Sequential()  # this is Keras's way of specifying a model that is a single sequence of layers\n",
    "two_layer_model.add(layers.Dense(250, activation='relu', input_shape=(150300,))) #optimized to get best accuracy at 250\n",
    "two_layer_model.add(layers.Dense(2, activation='softmax'))\n",
    "\n",
    "two_layer_model.compile(optimizer='rmsprop',\n",
    "                        loss='categorical_crossentropy',\n",
    "                        metrics=['accuracy'])"
   ]
  },
  {
   "cell_type": "code",
   "execution_count": 18,
   "metadata": {},
   "outputs": [
    {
     "name": "stdout",
     "output_type": "stream",
     "text": [
      "Train on 1222 samples, validate on 306 samples\n",
      "Epoch 1/5\n",
      "1222/1222 [==============================] - 17s 14ms/step - loss: 6.2520 - acc: 0.6121 - val_loss: 6.2681 - val_acc: 0.6111\n",
      "Epoch 2/5\n",
      "1222/1222 [==============================] - 14s 12ms/step - loss: 6.2520 - acc: 0.6121 - val_loss: 6.2681 - val_acc: 0.6111\n",
      "Epoch 3/5\n",
      "1222/1222 [==============================] - 14s 12ms/step - loss: 6.2520 - acc: 0.6121 - val_loss: 6.2681 - val_acc: 0.6111\n",
      "Epoch 4/5\n",
      "1222/1222 [==============================] - 14s 12ms/step - loss: 6.2520 - acc: 0.6121 - val_loss: 6.2681 - val_acc: 0.6111\n",
      "Epoch 5/5\n",
      "1222/1222 [==============================] - 14s 11ms/step - loss: 6.2520 - acc: 0.6121 - val_loss: 6.2681 - val_acc: 0.6111\n"
     ]
    },
    {
     "data": {
      "text/plain": [
       "<keras.callbacks.History at 0x174d41c89e8>"
      ]
     },
     "execution_count": 18,
     "metadata": {},
     "output_type": "execute_result"
    }
   ],
   "source": [
    "# This code will fit the neural net to the training set.\n",
    "two_layer_model.fit(train_x_original,\n",
    "                    train_labels_categorical_original,\n",
    "                    validation_split=0.2,\n",
    "                    epochs=5,\n",
    "                    batch_size=128)"
   ]
  },
  {
   "cell_type": "code",
   "execution_count": 19,
   "metadata": {},
   "outputs": [
    {
     "name": "stdout",
     "output_type": "stream",
     "text": [
      "382/382 [==============================] - 1s 4ms/step\n",
      "Test accuracy: 0.5732984290073055\n"
     ]
    }
   ],
   "source": [
    "# This code will compute test accuracy of the model.\n",
    "test_loss_original, test_acc_original = two_layer_model.evaluate(test_x_original, test_labels_categorical_original)\n",
    "print('Test accuracy:', test_acc_original)"
   ]
  },
  {
   "cell_type": "markdown",
   "metadata": {},
   "source": [
    "As a result, the test accuracy of 2-layer neural net without dimensional reduction is 57.3%."
   ]
  },
  {
   "cell_type": "markdown",
   "metadata": {},
   "source": [
    "In summary, 2-layer neural network with dimensional reduction perform the best."
   ]
  },
  {
   "cell_type": "markdown",
   "metadata": {},
   "source": [
    "## Part (3) Selecting the Best Classifier (Performance Evaluation)\n",
    "We evaluated the models with the best hyperparameters by comparing the expected cost (pay-off) of each model as follows.\n",
    "  \n",
    "First, we constructed a Cost Preference Matrix with points allotted to all outcomes (TP, TN, FP, FN) in a confusion matrix.  \n",
    "In the matrix, we penalized more where actual condition of building is \"damaged\" but classified as \"undamaged\" (FN). This is because government officials might overlook the intensity of damage.  \n",
    "  \n",
    "After constructing the matrix, we computed the expected costs (pay-off) of each classifier to select the best classifier, using a cost preference matrix and the confusion matrixes derived from each classifier."
   ]
  },
  {
   "cell_type": "code",
   "execution_count": 44,
   "metadata": {},
   "outputs": [
    {
     "data": {
      "text/html": [
       "<div>\n",
       "<style scoped>\n",
       "    .dataframe tbody tr th:only-of-type {\n",
       "        vertical-align: middle;\n",
       "    }\n",
       "\n",
       "    .dataframe tbody tr th {\n",
       "        vertical-align: top;\n",
       "    }\n",
       "\n",
       "    .dataframe thead th {\n",
       "        text-align: right;\n",
       "    }\n",
       "</style>\n",
       "<table border=\"1\" class=\"dataframe\">\n",
       "  <thead>\n",
       "    <tr style=\"text-align: right;\">\n",
       "      <th></th>\n",
       "      <th>0</th>\n",
       "      <th>1</th>\n",
       "    </tr>\n",
       "  </thead>\n",
       "  <tbody>\n",
       "    <tr>\n",
       "      <th>0</th>\n",
       "      <td>10</td>\n",
       "      <td>-5</td>\n",
       "    </tr>\n",
       "    <tr>\n",
       "      <th>1</th>\n",
       "      <td>-10</td>\n",
       "      <td>10</td>\n",
       "    </tr>\n",
       "  </tbody>\n",
       "</table>\n",
       "</div>"
      ],
      "text/plain": [
       "    0   1\n",
       "0  10  -5\n",
       "1 -10  10"
      ]
     },
     "execution_count": 44,
     "metadata": {},
     "output_type": "execute_result"
    }
   ],
   "source": [
    "# This code will create a cost preference matrix\n",
    "import pandas as pd\n",
    "\n",
    "# Creates a list containing 2 lists, each of 2 items, all set to 0\n",
    "w, h = 2, 2;\n",
    "cost_matrix = [[0 for x in range(w)] for y in range(h)] \n",
    "\n",
    "cost_matrix[0][0] = 10\n",
    "cost_matrix[0][1] = 5*(-1) \n",
    "cost_matrix[1][0] = 10*(-1)\n",
    "cost_matrix[1][1] = 10\n",
    "\n",
    "df = pd.DataFrame(cost_matrix)\n",
    "df"
   ]
  },
  {
   "cell_type": "code",
   "execution_count": 42,
   "metadata": {},
   "outputs": [],
   "source": [
    "# This code will define a function to sum up all the elements in a matrix.\n",
    "def get_sum_elements(arr):\n",
    "    sum_array = 0\n",
    "    for row in range(len(arr)):\n",
    "        for col in range(len(arr[row])):\n",
    "            sum_array = sum_array+ arr[row][col]\n",
    "        \n",
    "    return sum_array"
   ]
  },
  {
   "cell_type": "code",
   "execution_count": 43,
   "metadata": {},
   "outputs": [
    {
     "data": {
      "text/plain": [
       "[530, 1675, 1445, 1225]"
      ]
     },
     "execution_count": 43,
     "metadata": {},
     "output_type": "execute_result"
    }
   ],
   "source": [
    "# This code will calculate the expected cost (pay-off) for each model\n",
    "cost = []\n",
    "cost.append(get_sum_elements(cm_svc * df))\n",
    "cost.append(get_sum_elements(cm_knn * df))\n",
    "cost.append(get_sum_elements(cm_rf * df))\n",
    "cost.append(get_sum_elements(cm_nn * df))\n",
    "cost"
   ]
  },
  {
   "cell_type": "markdown",
   "metadata": {},
   "source": [
    "According to the result, (k-NN's pay-off is the highest)  \n",
    "    \n",
    "In conclusion, (k-NN is the best classifier)\n",
    "  \n",
    "The reason why k-Nearest Neighbor was the best might be...\n",
    "  \n",
    "Through industry experience we know that Neural Network is the state-of-art machine learning technique for accurate image analysis; however,... (challenges explained)"
   ]
  },
  {
   "cell_type": "markdown",
   "metadata": {},
   "source": [
    "#### Reference List\n",
    "- yhat, \"Content-based image classification in Python\", June 12, 2013, http://blog.yhat.com/posts/image-classification-in-Python.html"
   ]
  }
 ],
 "metadata": {
  "kernelspec": {
   "display_name": "Python 3",
   "language": "python",
   "name": "python3"
  },
  "language_info": {
   "codemirror_mode": {
    "name": "ipython",
    "version": 3
   },
   "file_extension": ".py",
   "mimetype": "text/x-python",
   "name": "python",
   "nbconvert_exporter": "python",
   "pygments_lexer": "ipython3",
   "version": "3.6.4"
  }
 },
 "nbformat": 4,
 "nbformat_minor": 2
}
