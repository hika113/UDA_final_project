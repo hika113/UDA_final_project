{
 "cells": [
  {
   "cell_type": "markdown",
   "metadata": {},
   "source": [
    "### Unstructured Data Analysis for Policy\n",
    "### Final Project Report\n",
    "#### <name (id)><name (id)>\n",
    "#### May 3, 2018"
   ]
  },
  {
   "cell_type": "markdown",
   "metadata": {},
   "source": [
    "## Part (1) Collecting Data of Image Files\n",
    "### (a) Bing Image Search (damaged and undamaged buildings)\n",
    "First, we collected image files from Bing image search results using Web API (Bing Image Search API v7). The reason why we chose Bing instead of Google is that Google does not give us over 100 image files per keyword. The issue seems to remain unsolved. Although Bing provided us with more than 100 image files, the total number still did not reach 1,000. (Even we searched more popular words such as \"cat\" in this API, we could not obtain over 1,000 files.)  \n",
    "In conclusion, we obatained approximately 300 pictures of damaged buildings and 500 pictures of undamaged buildings from Bing image search. In these files, only a few images do not appear to contain buildings, and most of the images appear to contain single building.  \n",
    "Also, as we'll mention later, we flipped the images horizontally and add the flipped images to the data. Thus, the volume of data doubled (damaged: 600, undamaged: 1,000 in total)  \n",
    "  \n",
    "  * Note: Downloaded image files should be contained in \"damaged\" folder for images of damaged buildings and \"undamaged\" folder for images of undamaged buildings. These folders should be contained within \"images\" folder created in the folder where this ipynb file exist. Thus, the structure of the folders is as follows: >base folder > \"images\" > \"damaged\" and \"undamaged\""
   ]
  },
  {
   "cell_type": "code",
   "execution_count": 15,
   "metadata": {},
   "outputs": [],
   "source": [
    "subscription_key = '859122352e0342e299ac923d58604c24' # This is my API key \n",
    "   # (Basically, you need to register Microsoft Azure and subscribe BingSearchAPIs to use API key.\n",
    "   # The number of calls is limited to 1,000 per month.)\n",
    "\n",
    "assert subscription_key\n",
    "search_url = \"https://api.cognitive.microsoft.com/bing/v7.0/images/search\"\n",
    "\n",
    "# Set search term as \"single building\" or \"single collapsed building\" for undamaged and damaged building\n",
    "search_term = \"single building\" # to search images of undamaged buildings\n",
    "#search_term = \"Single collapsed building\" # to search images of damaged buildings\n",
    "count = 150 # number of images to get per attempt (max: 150)"
   ]
  },
  {
   "cell_type": "code",
   "execution_count": 16,
   "metadata": {},
   "outputs": [
    {
     "name": "stdout",
     "output_type": "stream",
     "text": [
      "Total estimate matches (the number of images hit by the search term):  609\n",
      "The next offset is 187 .\n",
      "The next offset is 371 .\n",
      "The next offset is 565 .\n",
      "The next offset is 642 (this is the end point).\n",
      "The total number of images obtained: 491\n"
     ]
    }
   ],
   "source": [
    "# Extract image files (1st attempt of a loop)\n",
    "import requests\n",
    "\n",
    "headers = {\"Ocp-Apim-Subscription-Key\" : subscription_key}\n",
    "params  = {\"count\": count, \"q\": search_term, \"offset\": 0, \"license\": \"any\", \"imageType\": \"photo\"}  \n",
    "response = requests.get(search_url, headers=headers, params=params)\n",
    "response.raise_for_status()\n",
    "search_results = response.json() # The search_results object contains the actual images along with rich metadata such as related items.\n",
    "\n",
    "thumbnail_urls = []\n",
    "content_urls = []\n",
    "formats = []\n",
    "\n",
    "for img in search_results[\"value\"]:\n",
    "    thumbnail_urls.append(img[\"thumbnailUrl\"]) # extract and store the thumbnail URLS.\n",
    "    content_urls.append(img[\"contentUrl\"]) # extract and store the content URLS\n",
    "    formats.append(img[\"encodingFormat\"]) # extract and store the encoding formats\n",
    "\n",
    "# the following code extracts total estimate matches.\n",
    "total_num_files = search_results[\"totalEstimatedMatches\"]\n",
    "\n",
    "# the following code extracts the next offset (\"The zero-based offset that indicates \n",
    "# the number of images to skip before returning images. The default is 0. \n",
    "# The offset should be less than (totalEstimatedMatches - count)\")\n",
    "offset = search_results[\"nextOffset\"]\n",
    "\n",
    "print(\"Total estimate matches (the number of images hit by the search term): \", total_num_files)\n",
    "print(\"The next offset is\", offset, \".\")\n",
    "\n",
    "\n",
    "while offset < total_num_files - count: \n",
    "    # Extract image files (2nd, 3rd, ..., and the last-1 attempt of the loop)\n",
    "    headers = {\"Ocp-Apim-Subscription-Key\" : subscription_key}\n",
    "    params  = {\"count\": count, \"q\": search_term, \"offset\": offset, \"license\": \"any\", \"imageType\": \"photo\"}  \n",
    "    response = requests.get(search_url, headers=headers, params=params)\n",
    "    response.raise_for_status()\n",
    "    search_results = response.json()\n",
    "    for img in search_results[\"value\"]:\n",
    "        thumbnail_urls.append(img[\"thumbnailUrl\"])\n",
    "        content_urls.append(img[\"contentUrl\"])\n",
    "        formats.append(img[\"encodingFormat\"])\n",
    "    offset = search_results[\"nextOffset\"]\n",
    "    print(\"The next offset is\", offset, \".\")\n",
    "else: \n",
    "    count = total_num_files - offset - 1\n",
    "    if count > 0: # Extract the remainig image files (the last attempt of the loop)\n",
    "        headers = {\"Ocp-Apim-Subscription-Key\" : subscription_key}\n",
    "        params  = {\"count\": count, \"q\": search_term, \"offset\": offset, \"license\": \"any\", \"imageType\": \"photo\"}  \n",
    "        response = requests.get(search_url, headers=headers, params=params)\n",
    "        response.raise_for_status()\n",
    "        search_results = response.json()\n",
    "        for img in search_results[\"value\"]:\n",
    "            thumbnail_urls.append(img[\"thumbnailUrl\"])\n",
    "            content_urls.append(img[\"contentUrl\"])\n",
    "            formats.append(img[\"encodingFormat\"])\n",
    "        offset = search_results[\"nextOffset\"]\n",
    "        print(\"The next offset is\", offset, \"(this is the end point).\")\n",
    "    print(\"The total number of images obtained:\", len(thumbnail_urls))"
   ]
  },
  {
   "cell_type": "code",
   "execution_count": 7,
   "metadata": {},
   "outputs": [],
   "source": [
    "# you can check the content of each list\n",
    "#thumbnail_urls\n",
    "#content_urls\n",
    "#formats"
   ]
  },
  {
   "cell_type": "code",
   "execution_count": 17,
   "metadata": {},
   "outputs": [],
   "source": [
    "# Download the pictures to the same folder as this ipynb file (this will take some minutes)\n",
    "for i, url in enumerate(thumbnail_urls): # if you want to download thumbnail files choose this line\n",
    "#for i, url in enumerate(content_urls): # if you want to download content (full size) files choose this line\n",
    "    fileName = str(i+1) + \".\" +formats[i]\n",
    "    req = requests.get(url)\n",
    "    f = open(fileName, 'wb')\n",
    "    f.write(req.content)\n",
    "    f.close()\n",
    "    \n",
    "##### NOTE: #####\n",
    "# To apply data augmentation below, you need to keep downloaded files in the same folder as the folder containing your ipynb file.\n",
    "# (Do not transfer downloaded files until you complete the data augmentation by the below code.)\n",
    "# After data augmentation below code, you need to (create \"undamaged\" or \"damaged\" folder and) transfer these files into the folder manually."
   ]
  },
  {
   "cell_type": "markdown",
   "metadata": {},
   "source": [
    "As data augmentation, we flipped the images horizontally and add the flipped images to the data."
   ]
  },
  {
   "cell_type": "code",
   "execution_count": 18,
   "metadata": {},
   "outputs": [],
   "source": [
    "###### Data Augmentation (flip horizontally) ######\n",
    "from PIL import Image\n",
    "from PIL import ImageOps\n",
    "# Download the pictures to the same folder as this ipynb file (this will take some minutes)\n",
    "for i, url in enumerate(thumbnail_urls): # if you want to download thumbnail files choose this line\n",
    "#for i, url in enumerate(content_urls): # if you want to download content (full size) files choose this line\n",
    "    fileName = str(i+1) + \".\" +formats[i]\n",
    "    fileName_mir = \"mir_\" + str(i+1) + \".\" +formats[i]\n",
    "    img = Image.open(fileName)\n",
    "    img_mir = ImageOps.mirror(img)\n",
    "    if formats[i] == \"jpg\" or formats[i] == \"jpeg\" or formats[i] == \"gif\" or formats[i] == \"png\":\n",
    "        # This is for the purpose of avoiding error due to irregular extention such as \".animatedgif\"\n",
    "        img_mir.save(fileName_mir)\n",
    "    \n",
    "##### NOTE: #####\n",
    "# After applying this code, you need to (create \"undamaged\" or \"damaged\" folder and) transfer these files into the folder manually.\n",
    "# If you want to display a few sample subsets by the below code, you still need to keep the files in the folder (do not transfer yet).\n",
    "# After transferring the files, you can download other files in part (b)"
   ]
  },
  {
   "cell_type": "markdown",
   "metadata": {},
   "source": [
    "The code below is just to show a few sample subsets of the collected images."
   ]
  },
  {
   "cell_type": "code",
   "execution_count": 31,
   "metadata": {},
   "outputs": [
    {
     "ename": "NameError",
     "evalue": "name 'requests' is not defined",
     "output_type": "error",
     "traceback": [
      "\u001b[1;31m---------------------------------------------------------------------------\u001b[0m",
      "\u001b[1;31mNameError\u001b[0m                                 Traceback (most recent call last)",
      "\u001b[1;32m<ipython-input-31-30f6ae295f66>\u001b[0m in \u001b[0;36m<module>\u001b[1;34m()\u001b[0m\n\u001b[0;32m      7\u001b[0m \u001b[1;32mfor\u001b[0m \u001b[0mi\u001b[0m \u001b[1;32min\u001b[0m \u001b[0mrange\u001b[0m\u001b[1;33m(\u001b[0m\u001b[1;36m4\u001b[0m\u001b[1;33m)\u001b[0m\u001b[1;33m:\u001b[0m\u001b[1;33m\u001b[0m\u001b[0m\n\u001b[0;32m      8\u001b[0m     \u001b[1;32mfor\u001b[0m \u001b[0mj\u001b[0m \u001b[1;32min\u001b[0m \u001b[0mrange\u001b[0m\u001b[1;33m(\u001b[0m\u001b[1;36m4\u001b[0m\u001b[1;33m)\u001b[0m\u001b[1;33m:\u001b[0m\u001b[1;33m\u001b[0m\u001b[0m\n\u001b[1;32m----> 9\u001b[1;33m         \u001b[0mimage_data\u001b[0m \u001b[1;33m=\u001b[0m \u001b[0mrequests\u001b[0m\u001b[1;33m.\u001b[0m\u001b[0mget\u001b[0m\u001b[1;33m(\u001b[0m\u001b[0mthumbnail_urls\u001b[0m\u001b[1;33m[\u001b[0m\u001b[0mi\u001b[0m\u001b[1;33m+\u001b[0m\u001b[1;36m4\u001b[0m\u001b[1;33m*\u001b[0m\u001b[0mj\u001b[0m\u001b[1;33m]\u001b[0m\u001b[1;33m)\u001b[0m\u001b[1;33m\u001b[0m\u001b[0m\n\u001b[0m\u001b[0;32m     10\u001b[0m         \u001b[0mimage_data\u001b[0m\u001b[1;33m.\u001b[0m\u001b[0mraise_for_status\u001b[0m\u001b[1;33m(\u001b[0m\u001b[1;33m)\u001b[0m\u001b[1;33m\u001b[0m\u001b[0m\n\u001b[0;32m     11\u001b[0m         \u001b[0mimage\u001b[0m \u001b[1;33m=\u001b[0m \u001b[0mImage\u001b[0m\u001b[1;33m.\u001b[0m\u001b[0mopen\u001b[0m\u001b[1;33m(\u001b[0m\u001b[0mBytesIO\u001b[0m\u001b[1;33m(\u001b[0m\u001b[0mimage_data\u001b[0m\u001b[1;33m.\u001b[0m\u001b[0mcontent\u001b[0m\u001b[1;33m)\u001b[0m\u001b[1;33m)\u001b[0m\u001b[1;33m\u001b[0m\u001b[0m\n",
      "\u001b[1;31mNameError\u001b[0m: name 'requests' is not defined"
     ]
    },
    {
     "data": {
      "image/png": "[encoded data removed]",
      "text/plain": [
       "<matplotlib.figure.Figure at 0x24aeacbf550>"
      ]
     },
     "metadata": {},
     "output_type": "display_data"
    }
   ],
   "source": [
    "%matplotlib inline\n",
    "import matplotlib.pyplot as plt\n",
    "from PIL import Image\n",
    "from io import BytesIO\n",
    "                  \n",
    "f, axes = plt.subplots(4, 4)\n",
    "for i in range(4):\n",
    "    for j in range(4):\n",
    "        image_data = requests.get(thumbnail_urls[i+4*j])\n",
    "        image_data.raise_for_status()\n",
    "        image = Image.open(BytesIO(image_data.content))\n",
    "        axes[i][j].imshow(image)\n",
    "        axes[i][j].axis(\"off\")"
   ]
  },
  {
   "cell_type": "code",
   "execution_count": 74,
   "metadata": {},
   "outputs": [
    {
     "data": {
      "image/png": "[encoded data removed]",
      "text/plain": [
       "<matplotlib.figure.Figure at 0x1d29e909780>"
      ]
     },
     "metadata": {},
     "output_type": "display_data"
    }
   ],
   "source": [
    "f, axes = plt.subplots(4, 4)\n",
    "for i in range(4):\n",
    "    for j in range(4):\n",
    "        image_data = requests.get(thumbnail_urls[i+4*j])\n",
    "        image_data.raise_for_status()\n",
    "        image = Image.open(BytesIO(image_data.content))\n",
    "        image_mir = ImageOps.mirror(image)\n",
    "        axes[i][j].imshow(image_mir)\n",
    "        axes[i][j].axis(\"off\")"
   ]
  },
  {
   "cell_type": "markdown",
   "metadata": {},
   "source": [
    "#### Reference List\n",
    "- Microsoft Azure, \"Image Search API v7 reference\", https://docs.microsoft.com/en-us/rest/api/cognitiveservices/bing-images-api-v7-reference\n",
    "- \"Do you know why only 100 images is the limit? Can we have more than 100?\", https://github.com/hardikvasa/google-images-download/issues/7"
   ]
  },
  {
   "cell_type": "markdown",
   "metadata": {},
   "source": [
    "### (b) Natural Hazards Image Database (damaged buildings)\n",
    "Second, we obtained images of damaged buildings from Natural Hazards Image Database where there are approximately 100 photos taken in the stricken areas by earthquakes such as the Great East Japan Earthquake in 2011. We used web scraping to obtain the data. In summary, we gained 83 images adding 83 flipped images, 166 images in total. While most images contain damaged (collapsed) buildings, some of the pictures contain several (not single) buildings and a few pictures do not appear to contain buildings."
   ]
  },
  {
   "cell_type": "code",
   "execution_count": 1,
   "metadata": {},
   "outputs": [],
   "source": [
    "import requests\n",
    "import sys\n",
    "from bs4 import BeautifulSoup as bs\n",
    "import time"
   ]
  },
  {
   "cell_type": "code",
   "execution_count": 23,
   "metadata": {},
   "outputs": [],
   "source": [
    "##### NOTE: #####\n",
    "# Before running this code, make sure that you transferred image files downloaded in part (a)\n",
    "# to the \"undamaged\" or \"damaged\" folders. \n",
    "\n",
    "# You can extract images of 2011 Honshu Japan Earthquake and Tsunami from the following code.\n",
    "# (39 files from 'https://www.ngdc.noaa.gov/hazardimages/event/show/256')\n",
    "r1 = requests.get('https://www.ngdc.noaa.gov/hazardimages/event/show/256') \n",
    "\n",
    "# You can also extract pictures of 2011 Christchurch New Zealand Earthquake (24 files)\n",
    "# and 2010 Haiti Earthquake and Tsunami (20 files) by replacing the url above.\n",
    "\n",
    "# New Zealand, 'https://www.ngdc.noaa.gov/hazardimages/event/show/259'\n",
    "r2 = requests.get('https://www.ngdc.noaa.gov/hazardimages/event/show/259') \n",
    "\n",
    "# Haiti, 'https://www.ngdc.noaa.gov/hazardimages/event/show/258'\n",
    "r3 = requests.get('https://www.ngdc.noaa.gov/hazardimages/event/show/258') \n",
    "\n",
    "links = []\n",
    "for i in [1,2,3]:\n",
    "    page = eval(\"r\"+str(i)).content\n",
    "    soup = bs(page, \"html.parser\")\n",
    "    lists = soup.find_all(\"li\", class_ = \"\")\n",
    "    for list_ in lists:\n",
    "        link = list_.img.get(\"src\")\n",
    "        links.append(link)\n",
    "    \n",
    "## Print the number of pictures and URLs\n",
    "#print(len(links), links)"
   ]
  },
  {
   "cell_type": "code",
   "execution_count": 24,
   "metadata": {},
   "outputs": [],
   "source": [
    "# Download the pictures stored in \"lists\"\n",
    "for link in links:\n",
    "    fileName = link.split(\"/\")[-1]\n",
    "    req = requests.get(link)\n",
    "    f = open(fileName, 'wb')\n",
    "    f.write(req.content)\n",
    "    f.close()\n",
    "\n",
    "##### NOTE #####\n",
    "# To apply data augmentation below, you need to keep downloaded files in the same folder as the folder containing your ipynb file.\n",
    "# (Do not transfer downloaded files until you complete the data augmentation by the below code.)\n",
    "# After data augmentation below code, you need to transfer these files into the \"damaged\" folder manually."
   ]
  },
  {
   "cell_type": "code",
   "execution_count": 25,
   "metadata": {},
   "outputs": [],
   "source": [
    "###### Data Augmentation (flip horizontally) ######\n",
    "# Download the pictures stored in \"lists\"\n",
    "for link in links:\n",
    "    fileName = link.split(\"/\")[-1]\n",
    "    fileName_mir = \"mir_\" + link.split(\"/\")[-1]\n",
    "    img = Image.open(fileName)\n",
    "    img_mir = ImageOps.mirror(img)\n",
    "    img_mir.save(fileName_mir)\n",
    "\n",
    "##### NOTE #####\n",
    "# After downloading, you need to transfer these files into the \"damaged\" folder manually."
   ]
  },
  {
   "cell_type": "markdown",
   "metadata": {},
   "source": [
    "#### Reference List\n",
    "- \"Natural Hazards Image Database\", https://www.ngdc.noaa.gov/hazardimages/\n",
    "- \"Do you know why only 100 images is the limit? Can we have more than 100?\", https://github.com/hardikvasa/google-images-download/issues/7"
   ]
  },
  {
   "cell_type": "markdown",
   "metadata": {},
   "source": [
    "### (c) Other Sources\n",
    "Finally, we acquired image data of undamaged buildings from The Oxford Building Dataset, which offers approximately 5,000 pictures collected from Flickr by searching for particular Oxford landmarks; however, many of the images are pictures of humans or pictures taken inside buildings. Thus, we decided not use this data."
   ]
  },
  {
   "cell_type": "markdown",
   "metadata": {},
   "source": [
    "#### Reference List\n",
    "- James Philbin, Relja Arandjelović and Andrew Zisserman, \"The Oxford Buildings Dataset\", http://www.robots.ox.ac.uk/~vgg/data/oxbuildings/"
   ]
  },
  {
   "cell_type": "markdown",
   "metadata": {},
   "source": [
    "### (d) Data augmentation\n",
    "As we indicated above, we flipped the obtained images horizontally and add the flipped images to the data. Thus, the volume of data has doubled."
   ]
  },
  {
   "cell_type": "markdown",
   "metadata": {},
   "source": [
    "#### Reference List\n",
    "- \"ImageOps Module\" http://pillow.readthedocs.io/en/latest/reference/ImageOps.html#PIL.ImageOps.mirror"
   ]
  },
  {
   "cell_type": "markdown",
   "metadata": {},
   "source": [
    "## Part (2) Image Analysis (Establishing Models)\n",
    "Using the collected images (383 image files of damaged buildings and 490 image files of undamaged buildings), we conducted image analysis to establish a model which can classify \"damaged\" and \"undamaged\" buildings.  \n",
    "First, we resized images and flattened them to make it easier to analyze. We labeled each image as \"damaged\" (y = 1) or \"undamaged\" (y = 0).  \n",
    "Second, we splitted the images into a training set and a test set.  \n",
    "Third, we conducted Principal Component Analysis (PCA) to reduce dimensions of image features. As the code below demonstrates, the first six principal components explain the variance well. Thus, we chose the number of components as six.  \n",
    "Fourth, we used Support Vector Machine (SVM) classifier, k-Nearest Neighbor (k-NN) method, and Random Forest (RM) classifier. For each method, we performed 5-fold cross-validation to choose the best hyperparameter (C for SVM classifier, k for k-NN, and the numbe of trees for RM classifier)."
   ]
  },
  {
   "cell_type": "code",
   "execution_count": 312,
   "metadata": {},
   "outputs": [],
   "source": [
    "from PIL import Image\n",
    "import numpy as np\n",
    "import os\n",
    "import pandas as pd\n",
    "import pylab as pl\n",
    "from sklearn.decomposition import PCA\n",
    "from sklearn.externals import joblib\n",
    "from sklearn.svm import SVC\n",
    "from sklearn.svm import LinearSVC\n",
    "from sklearn.neighbors import KNeighborsClassifier\n",
    "from sklearn.ensemble import RandomForestClassifier\n",
    "from sklearn.model_selection import KFold\n",
    "import glob\n",
    "# You need to install \"keras\" and \"tensorflow\" packages in your Python to run this code.\n",
    "from keras.utils import to_categorical\n",
    "from keras import models\n",
    "from keras import layers"
   ]
  },
  {
   "cell_type": "code",
   "execution_count": 313,
   "metadata": {},
   "outputs": [],
   "source": [
    "# Create functions to transform images\n",
    "\n",
    "# Define the size after resizing\n",
    "standard_size = (300, 167)\n",
    "\n",
    "# Resize an image to the standard_size (shape = (167, 300, 3))\n",
    "# and convert it numpy array of RGB pixels\n",
    "def img_to_matrix(filename):\n",
    "    img = Image.open(filename)\n",
    "    img = img.resize(standard_size)\n",
    "    img_array = np.array(img)\n",
    "    return img_array\n",
    "\n",
    "# Flatten a (m, n, l) numpy array into an array of shape (1, m * n * l)\n",
    "def flatten_image(img):\n",
    "    if len(img.shape)==3: # To avoid an error due to a few narray with an exceptional shape (m, n)\n",
    "            s = img.shape[0] * img.shape[1] * img.shape[2]\n",
    "            img_wide = img.reshape(1, s)\n",
    "            return img_wide[0]\n",
    "    "
   ]
  },
  {
   "cell_type": "code",
   "execution_count": 353,
   "metadata": {},
   "outputs": [],
   "source": [
    "# List each image files within \"damaged\" and \"undamaged\" folders in \"image\" folder \n",
    "# And label \"damaged\" to the files in \"damaged\" folder and \"undamaged\" to the files in \"undamaged\" folder \n",
    "images = []\n",
    "labels = []\n",
    "\n",
    "for image in glob.glob(\"./images/damaged/*.jpg\"):\n",
    "    images.append(image)\n",
    "    labels.append(\"damaged\")\n",
    "for image in glob.glob(\"./images/damaged/*.jpeg\"):\n",
    "    images.append(image)\n",
    "    labels.append(\"damaged\")\n",
    "for image in glob.glob(\"./images/damaged/*.gif\"):\n",
    "    images.append(image)\n",
    "    labels.append(\"damaged\")\n",
    "for image in glob.glob(\"./images/damaged/*.png\"):\n",
    "    images.append(image)\n",
    "    labels.append(\"damaged\")\n",
    "#print(len(images))\n",
    "#print(len(labels))\n",
    "      \n",
    "for image in glob.glob(\"./images/undamaged/*.jpg\"):\n",
    "    images.append(image)\n",
    "    labels.append(\"undamaged\")\n",
    "for image in glob.glob(\"./images/undamaged/*.jpeg\"):\n",
    "    images.append(image)\n",
    "    labels.append(\"undamaged\")\n",
    "for image in glob.glob(\"./images/undamaged/*.gif\"):\n",
    "    images.append(image)\n",
    "    labels.append(\"undamaged\")\n",
    "for image in glob.glob(\"./images/undamaged/*.png\"):\n",
    "    images.append(image)\n",
    "    labels.append(\"undamaged\")\n",
    "#print(len(images))\n",
    "#print(len(labels))"
   ]
  },
  {
   "cell_type": "code",
   "execution_count": 315,
   "metadata": {},
   "outputs": [],
   "source": [
    "# Create a function to process the data (convert image files into a numpy array)\n",
    "def data_processing(images, labels):         \n",
    "    data = []\n",
    "    \n",
    "    del_row = []\n",
    "    for i, image in enumerate(images):\n",
    "        # Apply the created functions above\n",
    "        img = img_to_matrix(image)\n",
    "        \n",
    "        img = flatten_image(img)\n",
    "        \n",
    "        if img is not None: # To remove null row (the image whose shape was not (m, n, l) numpy array)\n",
    "            data.append(img)\n",
    "        if img is None:\n",
    "            del_row.append(i)\n",
    "    # Convert \"data\" list into numpy array\n",
    "    data = np.array(data)\n",
    "\n",
    "    # Remove the corresponding rows from \"labels\"\n",
    "    labels = np.delete(labels, del_row, axis = 0)\n",
    "    print(\"Images in row #\", del_row, \"were removed due to the irregular shape.\")\n",
    "    return data, labels"
   ]
  },
  {
   "cell_type": "code",
   "execution_count": 206,
   "metadata": {},
   "outputs": [
    {
     "name": "stdout",
     "output_type": "stream",
     "text": [
      "Images in row # [722, 723, 724, 725] were removed due to the irregular shape.\n"
     ]
    },
    {
     "data": {
      "text/plain": [
       "array([0.19880338, 0.0942502 , 0.05668722, 0.04152947, 0.03914788,\n",
       "       0.02474766, 0.02014306, 0.0161251 , 0.01382254, 0.0136698 ,\n",
       "       0.01188621, 0.01024629, 0.00867681, 0.00847302, 0.00776684,\n",
       "       0.00703954, 0.00673103, 0.00659129, 0.00557721, 0.00556092])"
      ]
     },
     "execution_count": 206,
     "metadata": {},
     "output_type": "execute_result"
    }
   ],
   "source": [
    "# Check the explained variance ratio by PCA to determine the number of principal components\n",
    "data, cleaned_labels = data_processing(images, labels)\n",
    "pca = PCA()\n",
    "pca.fit(data)\n",
    "pca.explained_variance_ratio_[:20] # display only the first ten (20) principal components\n",
    "# the result shows that the first principal component explains 19.9%,\n",
    "# the second explains 9.4%, the third explains 5.7%, the fourth explains 4.2%,\n",
    "# the fifth explains 2.5%, and the sixthe explains 2.0% of the variance.\n",
    "# Thus we chose the number of components as six (6)."
   ]
  },
  {
   "cell_type": "code",
   "execution_count": 354,
   "metadata": {},
   "outputs": [
    {
     "name": "stdout",
     "output_type": "stream",
     "text": [
      "Images in row # [722, 723, 724, 725] were removed due to the irregular shape.\n",
      "[  30  262  668 ...  282 1469  770]\n",
      "The number of images of damaged buildings in total: 756\n",
      "The number of images of undamaged buildings in total: 1154\n",
      "The number of training samples: 1528\n",
      "The number of images of damaged buildings in the training samples: 593\n",
      "The number of images of undamaged buildings in the training samples: 935\n",
      "The number of test samples: 382\n",
      "The number of images of damaged buildings in the test samples: 163\n",
      "The number of images of undamaged buildings in the test samples: 219\n"
     ]
    }
   ],
   "source": [
    "# Divide data into a training set and a test set\n",
    "data, new_labels = data_processing(images, labels)\n",
    "y = np.where(np.array(new_labels) == 'damaged', 1, 0)\n",
    "np.random.seed(94774)\n",
    "random_ordering_of_data = np.random.permutation(len(data))\n",
    "print(random_ordering_of_data)\n",
    "train_frac = 0.80\n",
    "num_training_data = int(train_frac*len(data))\n",
    "train_indices = random_ordering_of_data[:num_training_data]\n",
    "test_indices = random_ordering_of_data[num_training_data:]\n",
    "train_x = data[train_indices]\n",
    "train_y = y[train_indices]\n",
    "test_x = data[test_indices]\n",
    "test_y = y[test_indices]\n",
    "#is_train = np.random.uniform(0, 1, len(data)) <= train_frac\n",
    "# Convert labels into a binary (1 if damaged, otherwise 0)\n",
    "#y = np.where(np.array(labels) == 'damaged', 1, 0)\n",
    "#train_x, train_y = data[is_train], y[is_train]\n",
    "## Set the test data\n",
    "#test_x, test_y = data[is_train == False], y[is_train == False]\n",
    "\n",
    "print(\"The number of images of damaged buildings in total:\", len(y[y==1]))\n",
    "print(\"The number of images of undamaged buildings in total:\", len(y[y==0]))\n",
    "      \n",
    "print(\"The number of training samples:\", len(train_y))\n",
    "print(\"The number of images of damaged buildings in the training samples:\", len(train_y[train_y==1]))\n",
    "print(\"The number of images of undamaged buildings in the training samples:\", len(train_y[train_y==0]))\n",
    "\n",
    "print(\"The number of test samples:\", len(test_y))\n",
    "print(\"The number of images of damaged buildings in the test samples:\", len(test_y[test_y==1]))\n",
    "print(\"The number of images of undamaged buildings in the test samples:\", len(test_y[test_y==0]))\n",
    "\n",
    "## Reduce demension to 6 principal components\n",
    "pca = PCA(n_components = 6)\n",
    "train_x = pca.fit_transform(train_x)\n",
    "test_x = pca.fit_transform(test_x)"
   ]
  },
  {
   "cell_type": "code",
   "execution_count": 272,
   "metadata": {},
   "outputs": [
    {
     "data": {
      "text/plain": [
       "<matplotlib.legend.Legend at 0x24a8996c748>"
      ]
     },
     "execution_count": 272,
     "metadata": {},
     "output_type": "execute_result"
    },
    {
     "data": {
      "image/png": "[encoded data removed]",
      "text/plain": [
       "<matplotlib.figure.Figure at 0x24a899da320>"
      ]
     },
     "metadata": {},
     "output_type": "display_data"
    }
   ],
   "source": [
    "## Plot the 1st and 2nd principle components (this does not appear to be helpful)\n",
    "pca = PCA(n_components=2)\n",
    "X = pca.fit_transform(data)\n",
    "df = pd.DataFrame({\"x\": X[:, 0], \"y\": X[:, 1], \"label\": np.where(y == 1, 'damaged', 'undamaged')})\n",
    "colors = ['red', 'yellow']\n",
    "for label, color in zip(df['label'].unique(), colors):\n",
    "    mask = df['label'] == label\n",
    "    pl.scatter(df[mask]['x'], df[mask]['y'], c=color, label=label)\n",
    "pl.legend()"
   ]
  },
  {
   "cell_type": "code",
   "execution_count": 355,
   "metadata": {},
   "outputs": [],
   "source": [
    "# (1) Conduct 10-fold cross-validation to choose the best C for SVM classifier\n",
    "def CV_SVC(train_x, train_y):\n",
    "    lowest_cross_val_error = np.inf\n",
    "    best_C = None\n",
    "    indices = range(len(train_x))\n",
    "#    kf = KFold(n_splits=10, shuffle=True, random_state=94775)\n",
    "    kf = KFold(n_splits=10, random_state=94775)\n",
    "\n",
    "    for C in [1e-2, 1e-1, 1, 10, 100, 1000]:\n",
    "        errors = []\n",
    "        for train_indices, val_indices in kf.split(indices):\n",
    "            classifier = LinearSVC(C=C, random_state=94775)\n",
    "            classifier.fit(train_x[train_indices], train_y[train_indices])\n",
    "            predicted_val_labels = classifier.predict(train_x[val_indices])\n",
    "            error = np.mean(predicted_val_labels != train_y[val_indices])\n",
    "            errors.append(error)\n",
    "        \n",
    "        cross_val_error = np.mean(errors)\n",
    "        print('C:', C, 'cross validation error:', cross_val_error)\n",
    "\n",
    "        if cross_val_error < lowest_cross_val_error:\n",
    "            lowest_cross_val_error = cross_val_error\n",
    "            best_C = C\n",
    "\n",
    "    print('Best C:', best_C, 'cross validation error:', lowest_cross_val_error)\n",
    "    return best_C"
   ]
  },
  {
   "cell_type": "code",
   "execution_count": 356,
   "metadata": {},
   "outputs": [
    {
     "name": "stdout",
     "output_type": "stream",
     "text": [
      "C: 0.01 cross validation error: 0.48630460956312344\n",
      "C: 0.1 cross validation error: 0.4856510147918816\n",
      "C: 1 cross validation error: 0.4856510147918816\n",
      "C: 10 cross validation error: 0.4856510147918816\n",
      "C: 100 cross validation error: 0.4856510147918816\n",
      "C: 1000 cross validation error: 0.4856510147918816\n",
      "Best C: 0.1 cross validation error: 0.4856510147918816\n",
      "Test_set_error of SVM classifier with the best C: 0.5052356020942408\n",
      "The confusion matrix is as follows:\n"
     ]
    },
    {
     "data": {
      "text/html": [
       "<div>\n",
       "<style scoped>\n",
       "    .dataframe tbody tr th:only-of-type {\n",
       "        vertical-align: middle;\n",
       "    }\n",
       "\n",
       "    .dataframe tbody tr th {\n",
       "        vertical-align: top;\n",
       "    }\n",
       "\n",
       "    .dataframe thead th {\n",
       "        text-align: right;\n",
       "    }\n",
       "</style>\n",
       "<table border=\"1\" class=\"dataframe\">\n",
       "  <thead>\n",
       "    <tr style=\"text-align: right;\">\n",
       "      <th>Predicted</th>\n",
       "      <th>0</th>\n",
       "      <th>1</th>\n",
       "    </tr>\n",
       "    <tr>\n",
       "      <th>Actual</th>\n",
       "      <th></th>\n",
       "      <th></th>\n",
       "    </tr>\n",
       "  </thead>\n",
       "  <tbody>\n",
       "    <tr>\n",
       "      <th>0</th>\n",
       "      <td>105</td>\n",
       "      <td>114</td>\n",
       "    </tr>\n",
       "    <tr>\n",
       "      <th>1</th>\n",
       "      <td>79</td>\n",
       "      <td>84</td>\n",
       "    </tr>\n",
       "  </tbody>\n",
       "</table>\n",
       "</div>"
      ],
      "text/plain": [
       "Predicted    0    1\n",
       "Actual             \n",
       "0          105  114\n",
       "1           79   84"
      ]
     },
     "execution_count": 356,
     "metadata": {},
     "output_type": "execute_result"
    }
   ],
   "source": [
    "# Evaluate the best SVM classifier\n",
    "\n",
    "best_C = CV_SVC(train_x, train_y)\n",
    "\n",
    "# Train a classifier with the best C \n",
    "# Fit a classifier to the \"entire\" training set\n",
    "final_svm_classifier = LinearSVC(C=best_C, random_state=94775)\n",
    "final_svm_classifier.fit(train_x, train_y)\n",
    "\n",
    "# Evaluate the model in the \"unseen\" test set\n",
    "predicted_test_labels = final_svm_classifier.predict(test_x)\n",
    "test_set_error = np.mean(predicted_test_labels != test_y)\n",
    "print(\"Test_set_error of SVM classifier with the best C:\", test_set_error)\n",
    "# Create a confusion matrix\n",
    "print(\"The confusion matrix is as follows:\")\n",
    "cm_svc = pd.crosstab(test_y, predicted_test_labels, rownames=['Actual'], colnames=['Predicted'])\n",
    "cm_svc"
   ]
  },
  {
   "cell_type": "code",
   "execution_count": 357,
   "metadata": {},
   "outputs": [],
   "source": [
    "# (2) Conduct 10-fold cross-validation to choose the best k for k-Nearest Neighbor\n",
    "def CV_kNN(train_x, train_y):\n",
    "    lowest_cross_val_error = np.inf\n",
    "    best_k = None\n",
    "    indices = range(len(train_x))\n",
    "#    kf = KFold(n_splits=10, shuffle=True, random_state=94775)\n",
    "    kf = KFold(n_splits=10, random_state=94775)\n",
    "    for k in [3, 5, 15, 25, 50]:\n",
    "        errors = []\n",
    "        for train_indices, val_indices in kf.split(indices):\n",
    "            classifier = KNeighborsClassifier(n_neighbors=k)\n",
    "            classifier.fit(train_x[train_indices], train_y[train_indices])\n",
    "            predicted_val_labels = classifier.predict(train_x[val_indices])\n",
    "            error = np.mean(predicted_val_labels != train_y[val_indices])\n",
    "            errors.append(error)\n",
    "        \n",
    "        cross_val_error = np.mean(errors)\n",
    "        print('k:', k, 'cross validation error:', cross_val_error)\n",
    "\n",
    "        if cross_val_error < lowest_cross_val_error:\n",
    "            lowest_cross_val_error = cross_val_error\n",
    "            best_k = k\n",
    "\n",
    "    print('Best k:', best_k, 'cross validation error:', lowest_cross_val_error)\n",
    "    return best_k"
   ]
  },
  {
   "cell_type": "code",
   "execution_count": 358,
   "metadata": {},
   "outputs": [
    {
     "name": "stdout",
     "output_type": "stream",
     "text": [
      "k: 3 cross validation error: 0.3619754041967664\n",
      "k: 5 cross validation error: 0.33384072927416575\n",
      "k: 15 cross validation error: 0.3652476780185759\n",
      "k: 25 cross validation error: 0.38161764705882356\n",
      "k: 50 cross validation error: 0.38095115239078087\n",
      "Best k: 5 cross validation error: 0.33384072927416575\n",
      "Test_set_error of k-Nearest Neighbor with the best k: 0.306282722513089\n",
      "The confusion matrix is as follows:\n"
     ]
    },
    {
     "data": {
      "text/html": [
       "<div>\n",
       "<style scoped>\n",
       "    .dataframe tbody tr th:only-of-type {\n",
       "        vertical-align: middle;\n",
       "    }\n",
       "\n",
       "    .dataframe tbody tr th {\n",
       "        vertical-align: top;\n",
       "    }\n",
       "\n",
       "    .dataframe thead th {\n",
       "        text-align: right;\n",
       "    }\n",
       "</style>\n",
       "<table border=\"1\" class=\"dataframe\">\n",
       "  <thead>\n",
       "    <tr style=\"text-align: right;\">\n",
       "      <th>Predicted</th>\n",
       "      <th>0</th>\n",
       "      <th>1</th>\n",
       "    </tr>\n",
       "    <tr>\n",
       "      <th>Actual</th>\n",
       "      <th></th>\n",
       "      <th></th>\n",
       "    </tr>\n",
       "  </thead>\n",
       "  <tbody>\n",
       "    <tr>\n",
       "      <th>0</th>\n",
       "      <td>180</td>\n",
       "      <td>39</td>\n",
       "    </tr>\n",
       "    <tr>\n",
       "      <th>1</th>\n",
       "      <td>78</td>\n",
       "      <td>85</td>\n",
       "    </tr>\n",
       "  </tbody>\n",
       "</table>\n",
       "</div>"
      ],
      "text/plain": [
       "Predicted    0   1\n",
       "Actual            \n",
       "0          180  39\n",
       "1           78  85"
      ]
     },
     "execution_count": 358,
     "metadata": {},
     "output_type": "execute_result"
    }
   ],
   "source": [
    "# Evaluate the best k-Nearest Neighbor model\n",
    "\n",
    "best_k = CV_kNN(train_x, train_y)\n",
    "\n",
    "# Train a classifier with the best C \n",
    "# Fit a classifier to the \"entire\" training set\n",
    "final_knn_classifier = KNeighborsClassifier(n_neighbors=best_k)\n",
    "final_knn_classifier.fit(train_x, train_y)\n",
    "\n",
    "# Evaluate the model in the \"unseen\" test set\n",
    "predicted_test_labels = final_knn_classifier.predict(test_x)\n",
    "test_set_error = np.mean(predicted_test_labels != test_y)\n",
    "print(\"Test_set_error of k-Nearest Neighbor with the best k:\", test_set_error)\n",
    "# Create a confusion matrix\n",
    "print(\"The confusion matrix is as follows:\")\n",
    "cm_knn = pd.crosstab(test_y, predicted_test_labels, rownames=['Actual'], colnames=['Predicted'])\n",
    "cm_knn"
   ]
  },
  {
   "cell_type": "code",
   "execution_count": 359,
   "metadata": {},
   "outputs": [],
   "source": [
    "# (3) Conduct 10-fold cross-validation to choose the best b for Random Forest classifier\n",
    "def CV_RF(train_x, train_y):\n",
    "    lowest_cross_val_error = np.inf\n",
    "    best_b = None\n",
    "    indices = range(len(train_x))\n",
    "    kf = KFold(n_splits=10, shuffle=True, random_state=94775)\n",
    "    for b in [50, 100, 150, 200, 250]:\n",
    "        errors = []\n",
    "        for train_indices, val_indices in kf.split(indices):\n",
    "            classifier = RandomForestClassifier(n_estimators=b, random_state=94775)\n",
    "            classifier.fit(train_x[train_indices], train_y[train_indices])\n",
    "            predicted_val_labels = classifier.predict(train_x[val_indices])\n",
    "            error = np.mean(predicted_val_labels != train_y[val_indices])\n",
    "            errors.append(error)\n",
    "        \n",
    "        cross_val_error = np.mean(errors)\n",
    "        print('b:', b, 'cross validation error:', cross_val_error)\n",
    "\n",
    "        if cross_val_error < lowest_cross_val_error:\n",
    "            lowest_cross_val_error = cross_val_error\n",
    "            best_b = b\n",
    "\n",
    "    print('Best b:', best_b, 'cross validation error:', lowest_cross_val_error)\n",
    "    return best_b"
   ]
  },
  {
   "cell_type": "code",
   "execution_count": 360,
   "metadata": {},
   "outputs": [
    {
     "name": "stdout",
     "output_type": "stream",
     "text": [
      "b: 50 cross validation error: 0.22705108359133125\n",
      "b: 100 cross validation error: 0.21788785689714482\n",
      "b: 150 cross validation error: 0.21658926728586173\n",
      "b: 200 cross validation error: 0.21526487788097698\n",
      "b: 250 cross validation error: 0.21526917784657726\n",
      "Best b: 200 cross validation error: 0.21526487788097698\n",
      "Test_set_error of Random Forest with the best b: 0.3298429319371728\n",
      "The confusion matrix is as follows:\n"
     ]
    },
    {
     "data": {
      "text/html": [
       "<div>\n",
       "<style scoped>\n",
       "    .dataframe tbody tr th:only-of-type {\n",
       "        vertical-align: middle;\n",
       "    }\n",
       "\n",
       "    .dataframe tbody tr th {\n",
       "        vertical-align: top;\n",
       "    }\n",
       "\n",
       "    .dataframe thead th {\n",
       "        text-align: right;\n",
       "    }\n",
       "</style>\n",
       "<table border=\"1\" class=\"dataframe\">\n",
       "  <thead>\n",
       "    <tr style=\"text-align: right;\">\n",
       "      <th>Predicted</th>\n",
       "      <th>0</th>\n",
       "      <th>1</th>\n",
       "    </tr>\n",
       "    <tr>\n",
       "      <th>Actual</th>\n",
       "      <th></th>\n",
       "      <th></th>\n",
       "    </tr>\n",
       "  </thead>\n",
       "  <tbody>\n",
       "    <tr>\n",
       "      <th>0</th>\n",
       "      <td>190</td>\n",
       "      <td>29</td>\n",
       "    </tr>\n",
       "    <tr>\n",
       "      <th>1</th>\n",
       "      <td>97</td>\n",
       "      <td>66</td>\n",
       "    </tr>\n",
       "  </tbody>\n",
       "</table>\n",
       "</div>"
      ],
      "text/plain": [
       "Predicted    0   1\n",
       "Actual            \n",
       "0          190  29\n",
       "1           97  66"
      ]
     },
     "execution_count": 360,
     "metadata": {},
     "output_type": "execute_result"
    }
   ],
   "source": [
    "# Evaluate the best Random Forest model\n",
    "\n",
    "best_b = CV_RF(train_x, train_y)\n",
    "\n",
    "# Train a classifier with the best C \n",
    "# Fit a classifier to the \"entire\" training set\n",
    "final_rf_classifier = RandomForestClassifier(n_estimators=best_b, random_state=94775)\n",
    "final_rf_classifier.fit(train_x, train_y)\n",
    "\n",
    "# Evaluate the model in the \"unseen\" test set\n",
    "predicted_test_labels = final_rf_classifier.predict(test_x)\n",
    "test_set_error = np.mean(predicted_test_labels != test_y)\n",
    "print(\"Test_set_error of Random Forest with the best b:\", test_set_error)\n",
    "# Create a confusion matrix\n",
    "print(\"The confusion matrix is as follows:\")\n",
    "cm_rf = pd.crosstab(test_y, predicted_test_labels, rownames=['Actual'], colnames=['Predicted'])\n",
    "cm_rf"
   ]
  },
  {
   "cell_type": "code",
   "execution_count": 361,
   "metadata": {},
   "outputs": [],
   "source": [
    "# (4) Newral network\n",
    "# You need to install \"keras\" and \"tensorflow\" packages in your Python to run this code.\n",
    "\n",
    "#code to apply neural nets\n",
    "from keras.utils import to_categorical\n",
    "train_labels_categorical = to_categorical(train_y)\n",
    "test_labels_categorical = to_categorical(test_y)"
   ]
  },
  {
   "cell_type": "code",
   "execution_count": 362,
   "metadata": {},
   "outputs": [
    {
     "data": {
      "text/plain": [
       "array([ -816.26016965,  8079.45356229,  3492.83630898,  -672.21957669,\n",
       "       -4377.6510817 ,  2665.30219031])"
      ]
     },
     "execution_count": 362,
     "metadata": {},
     "output_type": "execute_result"
    }
   ],
   "source": [
    "train_x[0]"
   ]
  },
  {
   "cell_type": "code",
   "execution_count": 363,
   "metadata": {},
   "outputs": [
    {
     "data": {
      "text/plain": [
       "array([0., 1.], dtype=float32)"
      ]
     },
     "execution_count": 363,
     "metadata": {},
     "output_type": "execute_result"
    }
   ],
   "source": [
    "train_labels_categorical[0]"
   ]
  },
  {
   "cell_type": "code",
   "execution_count": 364,
   "metadata": {},
   "outputs": [
    {
     "name": "stdout",
     "output_type": "stream",
     "text": [
      "(1528, 6)\n"
     ]
    }
   ],
   "source": [
    "print(train_x.shape)"
   ]
  },
  {
   "cell_type": "code",
   "execution_count": 389,
   "metadata": {},
   "outputs": [
    {
     "name": "stdout",
     "output_type": "stream",
     "text": [
      "_________________________________________________________________\n",
      "Layer (type)                 Output Shape              Param #   \n",
      "=================================================================\n",
      "dense_47 (Dense)             (None, 2)                 14        \n",
      "=================================================================\n",
      "Total params: 14\n",
      "Trainable params: 14\n",
      "Non-trainable params: 0\n",
      "_________________________________________________________________\n",
      "None\n"
     ]
    }
   ],
   "source": [
    "from keras import models\n",
    "from keras import layers\n",
    "\n",
    "shallow_single_layer_mod = models.Sequential()  # this is Keras's way of specifying a model that is a single sequence of layers\n",
    "shallow_single_layer_mod.add(layers.Dense(2, activation='softmax', input_shape=(6,))) #since it is a 2 class classifier, therefore 2\n",
    "\n",
    "# the line below is not required for constructing the model and just gives a summary of the model\n",
    "print(shallow_single_layer_mod.summary())"
   ]
  },
  {
   "cell_type": "code",
   "execution_count": 390,
   "metadata": {},
   "outputs": [],
   "source": [
    "# the lecture slides explains the loss (which is an error function) that the optimizer will try to minimize;\n",
    "# there are some optimizers that are popularly used for training neural nets such as stochastic gradient\n",
    "# descent (SGD), RMSProp, and Adam (for the purposes of this class, don't worry about what these are)\n",
    "shallow_single_layer_mod.compile(optimizer='rmsprop',\n",
    "                                   loss='categorical_crossentropy',\n",
    "                                   metrics=['accuracy'])  # metrics says what accuracy metrics to display when training"
   ]
  },
  {
   "cell_type": "code",
   "execution_count": 391,
   "metadata": {},
   "outputs": [
    {
     "name": "stdout",
     "output_type": "stream",
     "text": [
      "Train on 1222 samples, validate on 306 samples\n",
      "Epoch 1/5\n",
      "1222/1222 [==============================] - 1s 502us/step - loss: 9.0512 - acc: 0.4378 - val_loss: 8.4806 - val_acc: 0.4739\n",
      "Epoch 2/5\n",
      "1222/1222 [==============================] - 0s 24us/step - loss: 9.0483 - acc: 0.4386 - val_loss: 8.4806 - val_acc: 0.4739\n",
      "Epoch 3/5\n",
      "1222/1222 [==============================] - 0s 30us/step - loss: 9.0483 - acc: 0.4386 - val_loss: 8.4806 - val_acc: 0.4739\n",
      "Epoch 4/5\n",
      "1222/1222 [==============================] - 0s 24us/step - loss: 9.0483 - acc: 0.4386 - val_loss: 8.4806 - val_acc: 0.4739\n",
      "Epoch 5/5\n",
      "1222/1222 [==============================] - 0s 23us/step - loss: 9.0483 - acc: 0.4386 - val_loss: 8.4806 - val_acc: 0.4739\n"
     ]
    },
    {
     "data": {
      "text/plain": [
       "<keras.callbacks.History at 0x24a8e849ef0>"
      ]
     },
     "execution_count": 391,
     "metadata": {},
     "output_type": "execute_result"
    }
   ],
   "source": [
    "shallow_single_layer_mod.fit(train_x,\n",
    "                               train_labels_categorical,\n",
    "                               validation_split=0.2,\n",
    "                               epochs=5,\n",
    "                               batch_size=128)"
   ]
  },
  {
   "cell_type": "code",
   "execution_count": 392,
   "metadata": {
    "scrolled": true
   },
   "outputs": [
    {
     "name": "stdout",
     "output_type": "stream",
     "text": [
      "382/382 [==============================] - 0s 45us/step\n",
      "Test accuracy: 0.45287958115183247\n"
     ]
    }
   ],
   "source": [
    "test_loss, test_acc = shallow_single_layer_mod.evaluate(test_x,\n",
    "                                                          test_labels_categorical)\n",
    "print('Test accuracy:', test_acc)"
   ]
  },
  {
   "cell_type": "markdown",
   "metadata": {},
   "source": [
    "# 2 Layer Net"
   ]
  },
  {
   "cell_type": "code",
   "execution_count": 393,
   "metadata": {},
   "outputs": [
    {
     "name": "stdout",
     "output_type": "stream",
     "text": [
      "_________________________________________________________________\n",
      "Layer (type)                 Output Shape              Param #   \n",
      "=================================================================\n",
      "dense_48 (Dense)             (None, 250)               1750      \n",
      "_________________________________________________________________\n",
      "dense_49 (Dense)             (None, 2)                 502       \n",
      "=================================================================\n",
      "Total params: 2,252\n",
      "Trainable params: 2,252\n",
      "Non-trainable params: 0\n",
      "_________________________________________________________________\n",
      "None\n"
     ]
    }
   ],
   "source": [
    "two_layer_model = models.Sequential()  # this is Keras's way of specifying a model that is a single sequence of layers\n",
    "two_layer_model.add(layers.Dense(250, activation='relu', input_shape=(6,))) #optimized to get best accuracy at 250\n",
    "two_layer_model.add(layers.Dense(2, activation='softmax'))\n",
    "\n",
    "print(two_layer_model.summary())\n",
    "\n",
    "\n",
    "two_layer_model.compile(optimizer='rmsprop',\n",
    "                        loss='categorical_crossentropy',\n",
    "                        metrics=['accuracy'])"
   ]
  },
  {
   "cell_type": "code",
   "execution_count": 394,
   "metadata": {},
   "outputs": [
    {
     "name": "stdout",
     "output_type": "stream",
     "text": [
      "Train on 1222 samples, validate on 306 samples\n",
      "Epoch 1/5\n",
      "1222/1222 [==============================] - 1s 486us/step - loss: 7.1360 - acc: 0.5548 - val_loss: 6.4114 - val_acc: 0.6013\n",
      "Epoch 2/5\n",
      "1222/1222 [==============================] - 0s 30us/step - loss: 6.9101 - acc: 0.5704 - val_loss: 6.9944 - val_acc: 0.5621\n",
      "Epoch 3/5\n",
      "1222/1222 [==============================] - 0s 31us/step - loss: 7.4612 - acc: 0.5344 - val_loss: 7.2585 - val_acc: 0.5490\n",
      "Epoch 4/5\n",
      "1222/1222 [==============================] - 0s 30us/step - loss: 7.0944 - acc: 0.5581 - val_loss: 6.7446 - val_acc: 0.5784\n",
      "Epoch 5/5\n",
      "1222/1222 [==============================] - 0s 30us/step - loss: 6.6635 - acc: 0.5851 - val_loss: 6.6369 - val_acc: 0.5882\n"
     ]
    },
    {
     "data": {
      "text/plain": [
       "<keras.callbacks.History at 0x24a8ea26320>"
      ]
     },
     "execution_count": 394,
     "metadata": {},
     "output_type": "execute_result"
    }
   ],
   "source": [
    "two_layer_model.fit(train_x,\n",
    "                    train_labels_categorical,\n",
    "                    validation_split=0.2,\n",
    "                    epochs=5,\n",
    "                    batch_size=128)"
   ]
  },
  {
   "cell_type": "code",
   "execution_count": 395,
   "metadata": {},
   "outputs": [
    {
     "name": "stdout",
     "output_type": "stream",
     "text": [
      "382/382 [==============================] - 0s 42us/step\n",
      "Test accuracy: 0.5994764394785097\n"
     ]
    }
   ],
   "source": [
    "test_loss, test_acc = two_layer_model.evaluate(test_x, test_labels_categorical)\n",
    "print('Test accuracy:', test_acc)"
   ]
  },
  {
   "cell_type": "code",
   "execution_count": 397,
   "metadata": {},
   "outputs": [
    {
     "name": "stdout",
     "output_type": "stream",
     "text": [
      "<class 'numpy.ndarray'>\n",
      "The confusion matrix is as follows:\n"
     ]
    },
    {
     "data": {
      "text/html": [
       "<div>\n",
       "<style scoped>\n",
       "    .dataframe tbody tr th:only-of-type {\n",
       "        vertical-align: middle;\n",
       "    }\n",
       "\n",
       "    .dataframe tbody tr th {\n",
       "        vertical-align: top;\n",
       "    }\n",
       "\n",
       "    .dataframe thead th {\n",
       "        text-align: right;\n",
       "    }\n",
       "</style>\n",
       "<table border=\"1\" class=\"dataframe\">\n",
       "  <thead>\n",
       "    <tr style=\"text-align: right;\">\n",
       "      <th>Predicted</th>\n",
       "      <th>0</th>\n",
       "      <th>1</th>\n",
       "    </tr>\n",
       "    <tr>\n",
       "      <th>Actual</th>\n",
       "      <th></th>\n",
       "      <th></th>\n",
       "    </tr>\n",
       "  </thead>\n",
       "  <tbody>\n",
       "    <tr>\n",
       "      <th>0</th>\n",
       "      <td>200</td>\n",
       "      <td>19</td>\n",
       "    </tr>\n",
       "    <tr>\n",
       "      <th>1</th>\n",
       "      <td>134</td>\n",
       "      <td>29</td>\n",
       "    </tr>\n",
       "  </tbody>\n",
       "</table>\n",
       "</div>"
      ],
      "text/plain": [
       "Predicted    0   1\n",
       "Actual            \n",
       "0          200  19\n",
       "1          134  29"
      ]
     },
     "execution_count": 397,
     "metadata": {},
     "output_type": "execute_result"
    }
   ],
   "source": [
    "#predicted_test_labels = shallow_single_layer_mod.predict(test_x)  # if the performance of the single layer model is better, use this line\n",
    "predicted_test_labels = two_layer_model.predict(test_x) # if the performance of the two layer model is better, use this line\n",
    "\n",
    "predict_y= []\n",
    "for row in predicted_test_labels:\n",
    "    if row[0] < row[1]:\n",
    "        predict_y.append(1)\n",
    "    else:\n",
    "        predict_y.append(0)\n",
    "    \n",
    "#predicted_test_y = np.where(np.array(predicted_test_labels) == [0,1], 1, 0)\n",
    "print(type(test_y))\n",
    "#test_set_error = np.mean(predicted_test_labels != test_y)\n",
    "#print(\"Test_set_error of Random Forest with the best b:\", test_set_error)\n",
    "# Create a confusion matrix#\n",
    "print(\"The confusion matrix is as follows:\")\n",
    "cm_nn = pd.crosstab(test_y, np.array(predict_y), rownames=['Actual'], colnames=['Predicted'])\n",
    "cm_nn"
   ]
  },
  {
   "cell_type": "markdown",
   "metadata": {},
   "source": [
    "We also tried neural network without PCA version."
   ]
  },
  {
   "cell_type": "code",
   "execution_count": 385,
   "metadata": {},
   "outputs": [
    {
     "data": {
      "text/plain": [
       "(1528, 150300)"
      ]
     },
     "execution_count": 385,
     "metadata": {},
     "output_type": "execute_result"
    }
   ],
   "source": [
    "##############################################\n",
    "####### Without PCA version ###############\n",
    "### NOTE: If you run this code, you'll need to re-run the code which define the training and test data\n",
    "### at the beggining of part (2) in order to \n",
    "\n",
    "# Redefine training and test data  \n",
    "train_x_original = data[train_indices]\n",
    "train_y_original = y[train_indices]\n",
    "test_x_original = data[test_indices]\n",
    "test_y_original = y[test_indices]\n",
    "\n",
    "train_labels_categorical_original = to_categorical(train_y_original)\n",
    "test_labels_categorical_original = to_categorical(test_y_original)\n",
    "\n",
    "train_x_original.shape"
   ]
  },
  {
   "cell_type": "code",
   "execution_count": 386,
   "metadata": {},
   "outputs": [
    {
     "name": "stdout",
     "output_type": "stream",
     "text": [
      "_________________________________________________________________\n",
      "Layer (type)                 Output Shape              Param #   \n",
      "=================================================================\n",
      "dense_45 (Dense)             (None, 250)               37575250  \n",
      "_________________________________________________________________\n",
      "dense_46 (Dense)             (None, 2)                 502       \n",
      "=================================================================\n",
      "Total params: 37,575,752\n",
      "Trainable params: 37,575,752\n",
      "Non-trainable params: 0\n",
      "_________________________________________________________________\n",
      "None\n"
     ]
    }
   ],
   "source": [
    "two_layer_model = models.Sequential()  # this is Keras's way of specifying a model that is a single sequence of layers\n",
    "two_layer_model.add(layers.Dense(250, activation='relu', input_shape=(150300,))) #optimized to get best accuracy at 250\n",
    "two_layer_model.add(layers.Dense(2, activation='softmax'))\n",
    "\n",
    "print(two_layer_model.summary())\n",
    "\n",
    "two_layer_model.compile(optimizer='rmsprop',\n",
    "                        loss='categorical_crossentropy',\n",
    "                        metrics=['accuracy'])"
   ]
  },
  {
   "cell_type": "code",
   "execution_count": 387,
   "metadata": {},
   "outputs": [
    {
     "name": "stdout",
     "output_type": "stream",
     "text": [
      "Train on 1222 samples, validate on 306 samples\n",
      "Epoch 1/5\n",
      "1222/1222 [==============================] - 10s 8ms/step - loss: 9.8675 - acc: 0.3871 - val_loss: 9.8499 - val_acc: 0.3889\n",
      "Epoch 2/5\n",
      "1222/1222 [==============================] - 8s 6ms/step - loss: 9.8661 - acc: 0.3879 - val_loss: 9.8499 - val_acc: 0.3889\n",
      "Epoch 3/5\n",
      "1222/1222 [==============================] - 9s 7ms/step - loss: 9.8661 - acc: 0.3879 - val_loss: 9.8499 - val_acc: 0.3889\n",
      "Epoch 4/5\n",
      "1222/1222 [==============================] - 9s 8ms/step - loss: 9.8661 - acc: 0.3879 - val_loss: 9.8499 - val_acc: 0.3889\n",
      "Epoch 5/5\n",
      "1222/1222 [==============================] - 9s 7ms/step - loss: 9.8661 - acc: 0.3879 - val_loss: 9.8499 - val_acc: 0.3889\n"
     ]
    },
    {
     "data": {
      "text/plain": [
       "<keras.callbacks.History at 0x24a8e5d9ba8>"
      ]
     },
     "execution_count": 387,
     "metadata": {},
     "output_type": "execute_result"
    }
   ],
   "source": [
    "two_layer_model.fit(train_x_original,\n",
    "                    train_labels_categorical_original,\n",
    "                    validation_split=0.2,\n",
    "                    epochs=5,\n",
    "                    batch_size=128)"
   ]
  },
  {
   "cell_type": "code",
   "execution_count": 388,
   "metadata": {},
   "outputs": [
    {
     "name": "stdout",
     "output_type": "stream",
     "text": [
      "382/382 [==============================] - 1s 2ms/step\n",
      "Test accuracy: 0.42670157099269446\n"
     ]
    }
   ],
   "source": [
    "test_loss_original, test_acc_original = two_layer_model.evaluate(test_x_original, test_labels_categorical_original)\n",
    "print('Test accuracy:', test_acc_original)"
   ]
  },
  {
   "cell_type": "code",
   "execution_count": null,
   "metadata": {},
   "outputs": [],
   "source": [
    "#######################################"
   ]
  },
  {
   "cell_type": "markdown",
   "metadata": {},
   "source": [
    "# Calculating Costs of each Classifier"
   ]
  },
  {
   "cell_type": "code",
   "execution_count": 374,
   "metadata": {},
   "outputs": [],
   "source": [
    "#creating a cost matrix\n",
    "# Creates a list containing 2 lists, each of 2 items, all set to 0\n",
    "w, h = 2, 2;\n",
    "cost_matrix = [[0 for x in range(w)] for y in range(h)] "
   ]
  },
  {
   "cell_type": "code",
   "execution_count": 375,
   "metadata": {},
   "outputs": [
    {
     "name": "stdout",
     "output_type": "stream",
     "text": [
      "<class 'list'>\n"
     ]
    }
   ],
   "source": [
    "#cost_matrix[0][0] = 10*(-1)\n",
    "#cost_matrix[0][1] = 10 \n",
    "#cost_matrix[1][0] = 10\n",
    "#cost_matrix[1][1] = 5*(-1)\n",
    "\n",
    "# I have modified cost matrix (5:26 PM, April 30)\n",
    "cost_matrix[0][0] = 10\n",
    "cost_matrix[0][1] = 5*(-1) \n",
    "cost_matrix[1][0] = 10*(-1)\n",
    "cost_matrix[1][1] = 10\n",
    "\n",
    "print(type(cost_matrix))"
   ]
  },
  {
   "cell_type": "code",
   "execution_count": 376,
   "metadata": {},
   "outputs": [
    {
     "data": {
      "text/html": [
       "<div>\n",
       "<style scoped>\n",
       "    .dataframe tbody tr th:only-of-type {\n",
       "        vertical-align: middle;\n",
       "    }\n",
       "\n",
       "    .dataframe tbody tr th {\n",
       "        vertical-align: top;\n",
       "    }\n",
       "\n",
       "    .dataframe thead th {\n",
       "        text-align: right;\n",
       "    }\n",
       "</style>\n",
       "<table border=\"1\" class=\"dataframe\">\n",
       "  <thead>\n",
       "    <tr style=\"text-align: right;\">\n",
       "      <th></th>\n",
       "      <th>0</th>\n",
       "      <th>1</th>\n",
       "    </tr>\n",
       "  </thead>\n",
       "  <tbody>\n",
       "    <tr>\n",
       "      <th>0</th>\n",
       "      <td>10</td>\n",
       "      <td>-5</td>\n",
       "    </tr>\n",
       "    <tr>\n",
       "      <th>1</th>\n",
       "      <td>-10</td>\n",
       "      <td>10</td>\n",
       "    </tr>\n",
       "  </tbody>\n",
       "</table>\n",
       "</div>"
      ],
      "text/plain": [
       "    0   1\n",
       "0  10  -5\n",
       "1 -10  10"
      ]
     },
     "execution_count": 376,
     "metadata": {},
     "output_type": "execute_result"
    }
   ],
   "source": [
    "import pandas as pd\n",
    "df = pd.DataFrame(cost_matrix)\n",
    "df"
   ]
  },
  {
   "cell_type": "code",
   "execution_count": 380,
   "metadata": {},
   "outputs": [],
   "source": [
    "def get_sum_elements(arr):\n",
    "    sum_array = 0\n",
    "    for row in range(len(arr)):\n",
    "        for col in range(len(arr[row])):\n",
    "            sum_array = sum_array+ arr[row][col]\n",
    "        \n",
    "    return sum_array"
   ]
  },
  {
   "cell_type": "code",
   "execution_count": 398,
   "metadata": {},
   "outputs": [
    {
     "data": {
      "text/plain": [
       "[530, 1675, 1445, 855]"
      ]
     },
     "execution_count": 398,
     "metadata": {},
     "output_type": "execute_result"
    }
   ],
   "source": [
    "cost = []\n",
    "cost.append(get_sum_elements(cm_svc * df))\n",
    "cost.append(get_sum_elements(cm_knn * df))\n",
    "cost.append(get_sum_elements(cm_rf * df))\n",
    "cost.append(get_sum_elements(cm_nn * df))\n",
    "cost"
   ]
  },
  {
   "cell_type": "markdown",
   "metadata": {},
   "source": [
    "#### Reference List\n",
    "- yhat, \"Content-based image classification in Python\", June 12, 2013, http://blog.yhat.com/posts/image-classification-in-Python.html"
   ]
  },
  {
   "cell_type": "markdown",
   "metadata": {},
   "source": [
    "### (3) Performance Evaluation and Conclusion\n",
    "We evaluated the models with the best hyperparameters by comparing each raw error rate in the unseen test set and selected the best classifier.\n",
    "Then, we estimated the expected cost by the confusion matrix of the best classifier.\n",
    "In conclusion, "
   ]
  }
 ],
 "metadata": {
  "kernelspec": {
   "display_name": "Python 3",
   "language": "python",
   "name": "python3"
  },
  "language_info": {
   "codemirror_mode": {
    "name": "ipython",
    "version": 3
   },
   "file_extension": ".py",
   "mimetype": "text/x-python",
   "name": "python",
   "nbconvert_exporter": "python",
   "pygments_lexer": "ipython3",
   "version": "3.6.4"
  }
 },
 "nbformat": 4,
 "nbformat_minor": 2
}
